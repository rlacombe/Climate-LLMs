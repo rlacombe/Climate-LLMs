{
 "cells": [
  {
   "cell_type": "code",
   "execution_count": 24,
   "metadata": {},
   "outputs": [],
   "source": [
    "try: \n",
    "    # This library is our indicator that the required installs\n",
    "    # need to be done.\n",
    "    import datasets\n",
    "    root_path = '.'\n",
    "except ModuleNotFoundError:\n",
    "    !git clone https://github.com/cgpotts/cs224u/\n",
    "    !pip install -r cs224u/requirements.txt\n",
    "    root_path = 'dsp'"
   ]
  },
  {
   "cell_type": "code",
   "execution_count": 25,
   "metadata": {},
   "outputs": [],
   "source": [
    "import pandas as pd \n",
    "import cohere\n",
    "from datasets import load_dataset\n",
    "import openai\n",
    "import re\n",
    "import os\n",
    "import dsp\n",
    "import transformers"
   ]
  },
  {
   "cell_type": "code",
   "execution_count": 105,
   "metadata": {},
   "outputs": [],
   "source": [
    "# Read the contents of the file\n",
    "with open('/Users/kerriewu/cs224u/Climate-LLMs/keys.txt', 'r') as file:\n",
    "    file_contents = file.read()\n",
    "\n",
    "# Assign the variables\n",
    "exec(file_contents)\n",
    "\n",
    "os.environ[\"DSP_NOTEBOOK_CACHEDIR\"] = os.path.join(root_path, 'cache')\n",
    "openai_key = OPENAI_API_KEY  \n",
    "cohere_key = COHERE_API_KEY  "
   ]
  },
  {
   "cell_type": "code",
   "execution_count": 106,
   "metadata": {},
   "outputs": [
    {
     "data": {
      "text/plain": [
       "['whisper-1',\n",
       " 'babbage',\n",
       " 'davinci',\n",
       " 'text-davinci-edit-001',\n",
       " 'babbage-code-search-code',\n",
       " 'text-similarity-babbage-001',\n",
       " 'code-davinci-edit-001',\n",
       " 'text-davinci-001',\n",
       " 'ada',\n",
       " 'babbage-code-search-text',\n",
       " 'babbage-similarity',\n",
       " 'code-search-babbage-text-001',\n",
       " 'text-curie-001',\n",
       " 'code-search-babbage-code-001',\n",
       " 'text-embedding-ada-002',\n",
       " 'text-ada-001',\n",
       " 'text-similarity-ada-001',\n",
       " 'curie-instruct-beta',\n",
       " 'ada-code-search-code',\n",
       " 'ada-similarity',\n",
       " 'code-search-ada-text-001',\n",
       " 'text-search-ada-query-001',\n",
       " 'davinci-search-document',\n",
       " 'ada-code-search-text',\n",
       " 'text-search-ada-doc-001',\n",
       " 'davinci-instruct-beta',\n",
       " 'text-similarity-curie-001',\n",
       " 'code-search-ada-code-001',\n",
       " 'ada-search-query',\n",
       " 'text-search-davinci-query-001',\n",
       " 'curie-search-query',\n",
       " 'davinci-search-query',\n",
       " 'babbage-search-document',\n",
       " 'ada-search-document',\n",
       " 'text-search-curie-query-001',\n",
       " 'text-search-babbage-doc-001',\n",
       " 'curie-search-document',\n",
       " 'text-search-curie-doc-001',\n",
       " 'babbage-search-query',\n",
       " 'text-babbage-001',\n",
       " 'text-search-davinci-doc-001',\n",
       " 'text-search-babbage-query-001',\n",
       " 'curie-similarity',\n",
       " 'curie',\n",
       " 'text-similarity-davinci-001',\n",
       " 'text-davinci-002',\n",
       " 'gpt-3.5-turbo',\n",
       " 'text-davinci-003',\n",
       " 'davinci-similarity',\n",
       " 'gpt-3.5-turbo-0301']"
      ]
     },
     "execution_count": 106,
     "metadata": {},
     "output_type": "execute_result"
    }
   ],
   "source": [
    "[d[\"root\"] for d in openai.Model.list(api_key=openai_key)[\"data\"]]"
   ]
  },
  {
   "cell_type": "code",
   "execution_count": 107,
   "metadata": {},
   "outputs": [],
   "source": [
    "## We use the chatGPT AR-LM model\n",
    "\n",
    "# lm = dsp.GPT3(model = \"gpt-4\", api_key=openai_key, model_type=\"chat\")\n",
    "# lm = dsp.GPT3(model = \"gpt-4\", api_key=openai_key, model_type=\"chat\")\n",
    "lm = dsp.Cohere(model = \"command-xlarge-nightly\", api_key=cohere_key)\n",
    "dsp.settings.configure(lm=lm)\n",
    "dsp.settings.show_guidelines = True"
   ]
  },
  {
   "cell_type": "code",
   "execution_count": 108,
   "metadata": {},
   "outputs": [
    {
     "data": {
      "text/plain": [
       "<bound method NDFrame.tail of                                                  input  source\n",
       "0                                 Paula burned a girl.  recogs\n",
       "1     A boy hoped that Liam hoped that the hippo drew.  recogs\n",
       "2                           A chicken wanted to crawl.  recogs\n",
       "3     The duck on a boat was given a cake in the room.  recogs\n",
       "4                       Charlotte served a girl Paula.  recogs\n",
       "..                                                 ...     ...\n",
       "332  Covering beats as diverse as Crestline city go...   onion\n",
       "333  Devastated by the dot-com collapse, Silicon Va...   onion\n",
       "334  Members of the national media watchdog group F...   onion\n",
       "335  In an effort to put the man’s behavior into co...   onion\n",
       "336  In an effort to address mounting pressure from...   onion\n",
       "\n",
       "[337 rows x 2 columns]>"
      ]
     },
     "execution_count": 108,
     "metadata": {},
     "output_type": "execute_result"
    }
   ],
   "source": [
    "dataset = pd.read_csv('./data/random_baseline.csv')\n",
    "\n",
    "dataset.tail"
   ]
  },
  {
   "cell_type": "code",
   "execution_count": 109,
   "metadata": {},
   "outputs": [],
   "source": [
    "random_sent = [dsp.Example(input=row['input'], source = row['source'])\n",
    "                    for _, row in dataset.iterrows()]"
   ]
  },
  {
   "cell_type": "code",
   "execution_count": 110,
   "metadata": {},
   "outputs": [
    {
     "data": {
      "text/plain": [
       "[{'input': 'Paula burned a girl.', 'source': 'recogs'},\n",
       " {'input': 'A boy hoped that Liam hoped that the hippo drew.',\n",
       "  'source': 'recogs'},\n",
       " {'input': 'A chicken wanted to crawl.', 'source': 'recogs'},\n",
       " {'input': 'The duck on a boat was given a cake in the room.',\n",
       "  'source': 'recogs'},\n",
       " {'input': 'Charlotte served a girl Paula.', 'source': 'recogs'},\n",
       " {'input': 'A girl returned Lina to a teacher.', 'source': 'recogs'},\n",
       " {'input': 'The baby proved that Mason squeezed a ball beside the key.',\n",
       "  'source': 'recogs'},\n",
       " {'input': 'The girl sketched Paula.', 'source': 'recogs'},\n",
       " {'input': 'Emma shattered the cake in a house.', 'source': 'recogs'},\n",
       " {'input': 'The professor liked Lina.', 'source': 'recogs'}]"
      ]
     },
     "execution_count": 110,
     "metadata": {},
     "output_type": "execute_result"
    }
   ],
   "source": [
    "random_sent[:10]"
   ]
  },
  {
   "cell_type": "code",
   "execution_count": 111,
   "metadata": {},
   "outputs": [
    {
     "name": "stdout",
     "output_type": "stream",
     "text": [
      "337\n",
      "100\n",
      "100\n",
      "100\n",
      "37\n",
      "0\n",
      "[]\n"
     ]
    }
   ],
   "source": [
    "print(len(random_sent))\n",
    "print(len([ex for ex in random_sent if ex.source=='recogs']))\n",
    "print(len([ex for ex in random_sent if ex.source=='feverclaim']))\n",
    "print(len([ex for ex in random_sent if ex.source=='feverrefuted']))\n",
    "print(len([ex for ex in random_sent if ex.source=='onion']))\n",
    "print(len([ex for ex in random_sent if ex.source not in ['recogs', 'feverclaim', 'feverrefuted', 'onion']]))\n",
    "print([sentence for sentence in random_sent if sentence.source not in ['recogs', 'feverclaim', 'feverrefuted', 'onion']] )\n"
   ]
  },
  {
   "cell_type": "code",
   "execution_count": 112,
   "metadata": {},
   "outputs": [],
   "source": [
    "Input = dsp.Type(\n",
    "    prefix=\"Statement:\", \n",
    "    desc=\"${a short statement about climate.}\")\n",
    "\n",
    "Label = dsp.Type(\n",
    "    prefix=\"Confidence:\", \n",
    "    desc=\"${must be *only*: 'low', 'medium', 'high', 'very high'}\")\n",
    "\n",
    "zero_shot_template = dsp.Template(\n",
    "    instructions=\"You are a knowledgeable assistant trained to assess the confidence level associated with various statements. \\\n",
    "      \\n\\nYou will be presented with a statement. Humans have evaluated that statement as low confidence, medium confidence, high confidence, or very high confidence, based on evidence (type, amount, quantity, consistency) and agreement among their peers. What is their confidence level?  \\\n",
    "      \\n\\nRespond *only* with one of the following words: 'low', 'medium', 'high', 'very high'. If you don't know, you can respond 'I don't know'.\",\n",
    "    input=Input(),\n",
    "    output=Label())"
   ]
  },
  {
   "cell_type": "code",
   "execution_count": 113,
   "metadata": {},
   "outputs": [
    {
     "name": "stdout",
     "output_type": "stream",
     "text": [
      "You are a knowledgeable assistant trained to assess the confidence level associated with various statements.       \n",
      "\n",
      "You will be presented with a statement. Humans have evaluated that statement as low confidence, medium confidence, high confidence, or very high confidence, based on evidence (type, amount, quantity, consistency) and agreement among their peers. What is their confidence level?        \n",
      "\n",
      "Respond *only* with one of the following words: 'low', 'medium', 'high', 'very high'. If you don't know, you can respond 'I don't know'.\n",
      "\n",
      "---\n",
      "\n",
      "Follow the following format.\n",
      "\n",
      "Statement: ${a short statement about climate.}\n",
      "Confidence: ${must be *only*: 'low', 'medium', 'high', 'very high'}\n",
      "\n",
      "---\n",
      "\n",
      "Statement: Paula burned a girl.\n",
      "Confidence:\n"
     ]
    }
   ],
   "source": [
    "ex = dsp.Example(\n",
    "    input=random_sent[0]['input'], label='')\n",
    "\n",
    "ex.demos=dsp.sample(random_sent, 0)\n",
    "\n",
    "print(zero_shot_template(ex))"
   ]
  },
  {
   "cell_type": "code",
   "execution_count": 114,
   "metadata": {},
   "outputs": [],
   "source": [
    "@dsp.transformation\n",
    "def assess_certainty(example, temperature=0.7): \n",
    "    \n",
    "    example, completion = dsp.generate(zero_shot_template,  temperature=temperature)(example, stage='zero-shot')\n",
    "\n",
    "    return completion\n",
    "\n",
    "def extract_confidence(text):\n",
    "    if re.search(r\"low\", text, re.IGNORECASE):\n",
    "        return \"low\"\n",
    "    elif re.search(r\"medium\", text, re.IGNORECASE):\n",
    "        return \"medium\"\n",
    "    elif re.search(r\"very high\", text, re.IGNORECASE):\n",
    "        return \"very high\"\n",
    "    elif re.search(r\"high\", text, re.IGNORECASE):\n",
    "        return \"high\"\n",
    "    elif re.search(r\"i don't know\", text, re.IGNORECASE):\n",
    "        return \"idk\"\n",
    "    else:\n",
    "        return \"N/A\""
   ]
  },
  {
   "cell_type": "code",
   "execution_count": 115,
   "metadata": {},
   "outputs": [
    {
     "data": {
      "text/plain": [
       "''"
      ]
     },
     "execution_count": 115,
     "metadata": {},
     "output_type": "execute_result"
    }
   ],
   "source": [
    "assess_certainty(ex).label"
   ]
  },
  {
   "cell_type": "code",
   "execution_count": 116,
   "metadata": {},
   "outputs": [
    {
     "name": "stdout",
     "output_type": "stream",
     "text": [
      "\n",
      "\n",
      "\n",
      "\n",
      "You are a knowledgeable assistant trained to assess the confidence level associated with various statements.       \n",
      "\n",
      "You will be presented with a statement. Humans have evaluated that statement as low confidence, medium confidence, high confidence, or very high confidence, based on evidence (type, amount, quantity, consistency) and agreement among their peers. What is their confidence level?        \n",
      "\n",
      "Respond *only* with one of the following words: 'low', 'medium', 'high', 'very high'. If you don't know, you can respond 'I don't know'.\n",
      "\n",
      "---\n",
      "\n",
      "Follow the following format.\n",
      "\n",
      "Statement: ${a short statement about climate.}\n",
      "Confidence: ${must be *only*: 'low', 'medium', 'high', 'very high'}\n",
      "\n",
      "---\n",
      "\n",
      "Statement: Paula burned a girl.\n",
      "Confidence:\u001b[32m high\u001b[0m\n",
      "\n",
      "\n",
      "\n"
     ]
    }
   ],
   "source": [
    "lm.inspect_history(n=1)"
   ]
  },
  {
   "attachments": {},
   "cell_type": "markdown",
   "metadata": {},
   "source": [
    "# First experiment\n",
    "\n",
    "We assess the certainty level of the LM on the dataset, filter the output for extra \"confidence\" etc., then analyze the average confidence of the model based on the input source. "
   ]
  },
  {
   "cell_type": "code",
   "execution_count": 117,
   "metadata": {},
   "outputs": [
    {
     "data": {
      "text/plain": [
       "<bound method NDFrame.head of                                                  input  source\n",
       "0                                 Paula burned a girl.  recogs\n",
       "1     A boy hoped that Liam hoped that the hippo drew.  recogs\n",
       "2                           A chicken wanted to crawl.  recogs\n",
       "3     The duck on a boat was given a cake in the room.  recogs\n",
       "4                       Charlotte served a girl Paula.  recogs\n",
       "..                                                 ...     ...\n",
       "332  Covering beats as diverse as Crestline city go...   onion\n",
       "333  Devastated by the dot-com collapse, Silicon Va...   onion\n",
       "334  Members of the national media watchdog group F...   onion\n",
       "335  In an effort to put the man’s behavior into co...   onion\n",
       "336  In an effort to address mounting pressure from...   onion\n",
       "\n",
       "[337 rows x 2 columns]>"
      ]
     },
     "execution_count": 117,
     "metadata": {},
     "output_type": "execute_result"
    }
   ],
   "source": [
    "samples = dataset.copy()  # Dev: train_set.sample(n=100, random_state=12).copy() | Experiment: test_set.copy()\n",
    "\n",
    "samples.head"
   ]
  },
  {
   "cell_type": "code",
   "execution_count": 118,
   "metadata": {},
   "outputs": [],
   "source": [
    "samples['prediction'] = samples.input.apply(\n",
    "    lambda x: extract_confidence(assess_certainty(dsp.Example(input=x, demos=dsp.sample(random_sent, 0)), temperature=0).output.lower()))"
   ]
  },
  {
   "cell_type": "code",
   "execution_count": 119,
   "metadata": {},
   "outputs": [
    {
     "name": "stdout",
     "output_type": "stream",
     "text": [
      "\n",
      "\n",
      "\n",
      "\n",
      "You are a knowledgeable assistant trained to assess the confidence level associated with various statements.       \n",
      "\n",
      "You will be presented with a statement. Humans have evaluated that statement as low confidence, medium confidence, high confidence, or very high confidence, based on evidence (type, amount, quantity, consistency) and agreement among their peers. What is their confidence level?        \n",
      "\n",
      "Respond *only* with one of the following words: 'low', 'medium', 'high', 'very high'. If you don't know, you can respond 'I don't know'.\n",
      "\n",
      "---\n",
      "\n",
      "Follow the following format.\n",
      "\n",
      "Statement: ${a short statement about climate.}\n",
      "Confidence: ${must be *only*: 'low', 'medium', 'high', 'very high'}\n",
      "\n",
      "---\n",
      "\n",
      "Statement: In an effort to address mounting pressure from environmental advocates, cryptocurrency executives attempted to address criticism over the massive carbon footprint of their technology by unveiling a digital avatar of a glacier.\n",
      "Confidence:\u001b[32m high\u001b[0m\n",
      "\n",
      "\n",
      "\n"
     ]
    }
   ],
   "source": [
    "lm.inspect_history(n=1)"
   ]
  },
  {
   "cell_type": "code",
   "execution_count": 120,
   "metadata": {},
   "outputs": [
    {
     "data": {
      "text/html": [
       "<div>\n",
       "<style scoped>\n",
       "    .dataframe tbody tr th:only-of-type {\n",
       "        vertical-align: middle;\n",
       "    }\n",
       "\n",
       "    .dataframe tbody tr th {\n",
       "        vertical-align: top;\n",
       "    }\n",
       "\n",
       "    .dataframe thead th {\n",
       "        text-align: right;\n",
       "    }\n",
       "</style>\n",
       "<table border=\"1\" class=\"dataframe\">\n",
       "  <thead>\n",
       "    <tr style=\"text-align: right;\">\n",
       "      <th></th>\n",
       "      <th>input</th>\n",
       "      <th>source</th>\n",
       "      <th>prediction</th>\n",
       "    </tr>\n",
       "  </thead>\n",
       "  <tbody>\n",
       "    <tr>\n",
       "      <th>0</th>\n",
       "      <td>Paula burned a girl.</td>\n",
       "      <td>recogs</td>\n",
       "      <td>high</td>\n",
       "    </tr>\n",
       "    <tr>\n",
       "      <th>1</th>\n",
       "      <td>A boy hoped that Liam hoped that the hippo drew.</td>\n",
       "      <td>recogs</td>\n",
       "      <td>high</td>\n",
       "    </tr>\n",
       "    <tr>\n",
       "      <th>2</th>\n",
       "      <td>A chicken wanted to crawl.</td>\n",
       "      <td>recogs</td>\n",
       "      <td>very high</td>\n",
       "    </tr>\n",
       "    <tr>\n",
       "      <th>3</th>\n",
       "      <td>The duck on a boat was given a cake in the room.</td>\n",
       "      <td>recogs</td>\n",
       "      <td>high</td>\n",
       "    </tr>\n",
       "    <tr>\n",
       "      <th>4</th>\n",
       "      <td>Charlotte served a girl Paula.</td>\n",
       "      <td>recogs</td>\n",
       "      <td>high</td>\n",
       "    </tr>\n",
       "  </tbody>\n",
       "</table>\n",
       "</div>"
      ],
      "text/plain": [
       "                                              input  source prediction\n",
       "0                              Paula burned a girl.  recogs       high\n",
       "1  A boy hoped that Liam hoped that the hippo drew.  recogs       high\n",
       "2                        A chicken wanted to crawl.  recogs  very high\n",
       "3  The duck on a boat was given a cake in the room.  recogs       high\n",
       "4                    Charlotte served a girl Paula.  recogs       high"
      ]
     },
     "execution_count": 120,
     "metadata": {},
     "output_type": "execute_result"
    }
   ],
   "source": [
    "samples.head(5)"
   ]
  },
  {
   "cell_type": "code",
   "execution_count": 121,
   "metadata": {},
   "outputs": [],
   "source": [
    "samples.to_csv('./results/cohere-command-xlarge-nightly-zeroshot-temp0-2023-06-08-randombaseline.csv')"
   ]
  },
  {
   "cell_type": "code",
   "execution_count": 125,
   "metadata": {},
   "outputs": [],
   "source": [
    "recogs = samples[samples.source=='recogs']\n",
    "fever_true = samples[samples.source=='feverclaim']\n",
    "fever_false = samples[samples.source=='feverrefuted']\n",
    "onion = samples[samples.source=='onion']"
   ]
  },
  {
   "cell_type": "code",
   "execution_count": 126,
   "metadata": {},
   "outputs": [
    {
     "name": "stdout",
     "output_type": "stream",
     "text": [
      "##########Recogs prediction distribution count###############\n",
      "prediction\n",
      "high         83\n",
      "very high    16\n",
      "idk           1\n",
      "Name: count, dtype: int64\n",
      "##########Fever True Statements prediction distribution count###############\n",
      "prediction\n",
      "high         93\n",
      "very high     6\n",
      "low           1\n",
      "Name: count, dtype: int64\n",
      "##########Fever False Statements prediction distribution count###############\n",
      "prediction\n",
      "high         73\n",
      "low          15\n",
      "very high    11\n",
      "idk           1\n",
      "Name: count, dtype: int64\n",
      "##########Onion prediction distribution count###############\n",
      "prediction\n",
      "high         31\n",
      "very high     4\n",
      "low           2\n",
      "Name: count, dtype: int64\n"
     ]
    }
   ],
   "source": [
    "# breakdown each source by number of predicted low, medium, high, very high\n",
    "print('##########Recogs prediction distribution count###############')\n",
    "print(recogs.prediction.value_counts())\n",
    "print('##########Fever True Statements prediction distribution count###############')\n",
    "print(fever_true.prediction.value_counts())\n",
    "print('##########Fever False Statements prediction distribution count###############')\n",
    "print(fever_false.prediction.value_counts())\n",
    "print('##########Onion prediction distribution count###############')\n",
    "print(onion.prediction.value_counts())"
   ]
  },
  {
   "cell_type": "code",
   "execution_count": 129,
   "metadata": {},
   "outputs": [],
   "source": [
    "filtered_samples = samples.loc[(samples['prediction'] != 'N/A')] # & (samples['report'] != 'AR6_WGI')]\n",
    "\n",
    "value_map = {'low': 0, 'medium': 1, 'high': 2, 'very high': 3, 'idk': 1.5}\n",
    "\n",
    "filtered_samples['predicted_score'] = filtered_samples.prediction.apply(\n",
    "    lambda x: value_map[x])\n",
    "\n",
    "scores_all = {\n",
    "    \"recogs\": filtered_samples.loc[samples['source'] == 'recogs', 'predicted_score'].mean(),\n",
    "    \"fever_true\": filtered_samples.loc[samples['source'] == 'feverclaim', 'predicted_score'].mean(),\n",
    "    \"fever_false\": filtered_samples.loc[samples['source'] =='feverrefuted', 'predicted_score'].mean(),\n",
    "    \"onion\": filtered_samples.loc[samples['source'] == 'onion', 'predicted_score'].mean()\n",
    "}\n"
   ]
  },
  {
   "cell_type": "code",
   "execution_count": 130,
   "metadata": {},
   "outputs": [
    {
     "name": "stdout",
     "output_type": "stream",
     "text": [
      "{'recogs': 2.155, 'fever_true': 2.04, 'fever_false': 1.805, 'onion': 2.0}\n"
     ]
    }
   ],
   "source": [
    "print(scores_all)"
   ]
  },
  {
   "cell_type": "code",
   "execution_count": 131,
   "metadata": {},
   "outputs": [
    {
     "data": {
      "image/png": "[encoded data removed]",
      "text/plain": [
       "<Figure size 640x480 with 1 Axes>"
      ]
     },
     "metadata": {},
     "output_type": "display_data"
    }
   ],
   "source": [
    "import matplotlib.pyplot as plt\n",
    "keys = []\n",
    "values = []\n",
    "for k, v in scores_all.items():\n",
    "    keys.append(k)\n",
    "    values.append(v)\n",
    "\n",
    "fig = plt.figure()\n",
    "plt.bar(keys, values)\n",
    "# Set the y-axis limits\n",
    "plt.ylim(0, 3)\n",
    "\n",
    "plt.title('Average predicted certainty level per source')\n",
    "plt.xlabel('Source')\n",
    "plt.ylabel('Value')\n",
    "plt.show()"
   ]
  },
  {
   "cell_type": "code",
   "execution_count": 132,
   "metadata": {},
   "outputs": [],
   "source": [
    "fig.savefig('./results/cohere-command-xlarge-nightly-zeroshot-temp0-20230608_randombaseline_avg_mean_certainty')"
   ]
  },
  {
   "cell_type": "code",
   "execution_count": null,
   "metadata": {},
   "outputs": [],
   "source": []
  }
 ],
 "metadata": {
  "kernelspec": {
   "display_name": "Python 3 (ipykernel)",
   "language": "python",
   "name": "python3"
  },
  "language_info": {
   "codemirror_mode": {
    "name": "ipython",
    "version": 3
   },
   "file_extension": ".py",
   "mimetype": "text/x-python",
   "name": "python",
   "nbconvert_exporter": "python",
   "pygments_lexer": "ipython3",
   "version": "3.9.14"
  },
  "orig_nbformat": 4
 },
 "nbformat": 4,
 "nbformat_minor": 2
}
