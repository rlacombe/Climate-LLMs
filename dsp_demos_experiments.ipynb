{
  "nbformat": 4,
  "nbformat_minor": 0,
  "metadata": {
    "colab": {
      "provenance": []
    },
    "kernelspec": {
      "name": "python3",
      "display_name": "Python 3"
    },
    "language_info": {
      "name": "python"
    }
  },
  "cells": [
    {
      "cell_type": "markdown",
      "source": [
        "# DSP experiments\n",
        "\n",
        "This notebook contains DSP experiments to assess the accuracy of confidence level classification of climate statements by various LLMs."
      ],
      "metadata": {
        "id": "5Yr_qsY-IVDh"
      }
    },
    {
      "cell_type": "code",
      "execution_count": 1,
      "metadata": {
        "colab": {
          "base_uri": "https://localhost:8080/"
        },
        "id": "McPATs55HhCb",
        "outputId": "0198de6e-0767-44ed-812b-f22d38d3f3ec"
      },
      "outputs": [
        {
          "output_type": "stream",
          "name": "stdout",
          "text": [
            "Cloning into 'cs224u'...\n",
            "remote: Enumerating objects: 2233, done.\u001b[K\n",
            "remote: Counting objects: 100% (141/141), done.\u001b[K\n",
            "remote: Compressing objects: 100% (90/90), done.\u001b[K\n",
            "remote: Total 2233 (delta 63), reused 97 (delta 51), pack-reused 2092\u001b[K\n",
            "Receiving objects: 100% (2233/2233), 41.52 MiB | 14.51 MiB/s, done.\n",
            "Resolving deltas: 100% (1362/1362), done.\n",
            "Looking in indexes: https://pypi.org/simple, https://us-python.pkg.dev/colab-wheels/public/simple/\n",
            "Collecting git+https://github.com/stanfordnlp/dsp (from -r cs224u/requirements.txt (line 15))\n",
            "  Cloning https://github.com/stanfordnlp/dsp to /tmp/pip-req-build-msvgjg9b\n",
            "  Running command git clone --filter=blob:none --quiet https://github.com/stanfordnlp/dsp /tmp/pip-req-build-msvgjg9b\n",
            "  Resolved https://github.com/stanfordnlp/dsp to commit 298fac8937fdf7326d1b85546ecd41f099ed33e2\n",
            "  Preparing metadata (setup.py) ... \u001b[?25l\u001b[?25hdone\n",
            "Requirement already satisfied: numpy>=1.20.0 in /usr/local/lib/python3.10/dist-packages (from -r cs224u/requirements.txt (line 1)) (1.22.4)\n",
            "Requirement already satisfied: scipy>=1.7.0 in /usr/local/lib/python3.10/dist-packages (from -r cs224u/requirements.txt (line 2)) (1.10.1)\n",
            "Requirement already satisfied: matplotlib>=3.7.0 in /usr/local/lib/python3.10/dist-packages (from -r cs224u/requirements.txt (line 3)) (3.7.1)\n",
            "Requirement already satisfied: scikit-learn>=1.0.2 in /usr/local/lib/python3.10/dist-packages (from -r cs224u/requirements.txt (line 4)) (1.2.2)\n",
            "Requirement already satisfied: nltk>=3.7 in /usr/local/lib/python3.10/dist-packages (from -r cs224u/requirements.txt (line 5)) (3.8.1)\n",
            "Requirement already satisfied: pytest>=7.1 in /usr/local/lib/python3.10/dist-packages (from -r cs224u/requirements.txt (line 6)) (7.2.2)\n",
            "Collecting jupyter>=1.0.0 (from -r cs224u/requirements.txt (line 7))\n",
            "  Downloading jupyter-1.0.0-py2.py3-none-any.whl (2.7 kB)\n",
            "Requirement already satisfied: pandas>=1.5 in /usr/local/lib/python3.10/dist-packages (from -r cs224u/requirements.txt (line 8)) (1.5.3)\n",
            "Collecting torch==1.13.1 (from -r cs224u/requirements.txt (line 9))\n",
            "  Downloading torch-1.13.1-cp310-cp310-manylinux1_x86_64.whl (887.5 MB)\n",
            "\u001b[2K     \u001b[90m━━━━━━━━━━━━━━━━━━━━━━━━━━━━━━━━━━━━━━━\u001b[0m \u001b[32m887.5/887.5 MB\u001b[0m \u001b[31m1.9 MB/s\u001b[0m eta \u001b[36m0:00:00\u001b[0m\n",
            "\u001b[?25hCollecting torchvision==0.14.1 (from -r cs224u/requirements.txt (line 10))\n",
            "  Downloading torchvision-0.14.1-cp310-cp310-manylinux1_x86_64.whl (24.2 MB)\n",
            "\u001b[2K     \u001b[90m━━━━━━━━━━━━━━━━━━━━━━━━━━━━━━━━━━━━━━━━\u001b[0m \u001b[32m24.2/24.2 MB\u001b[0m \u001b[31m55.2 MB/s\u001b[0m eta \u001b[36m0:00:00\u001b[0m\n",
            "\u001b[?25hCollecting transformers==4.26.1 (from -r cs224u/requirements.txt (line 11))\n",
            "  Downloading transformers-4.26.1-py3-none-any.whl (6.3 MB)\n",
            "\u001b[2K     \u001b[90m━━━━━━━━━━━━━━━━━━━━━━━━━━━━━━━━━━━━━━━━\u001b[0m \u001b[32m6.3/6.3 MB\u001b[0m \u001b[31m94.2 MB/s\u001b[0m eta \u001b[36m0:00:00\u001b[0m\n",
            "\u001b[?25hCollecting datasets==2.10.1 (from -r cs224u/requirements.txt (line 12))\n",
            "  Downloading datasets-2.10.1-py3-none-any.whl (469 kB)\n",
            "\u001b[2K     \u001b[90m━━━━━━━━━━━━━━━━━━━━━━━━━━━━━━━━━━━━━━\u001b[0m \u001b[32m469.0/469.0 kB\u001b[0m \u001b[31m41.4 MB/s\u001b[0m eta \u001b[36m0:00:00\u001b[0m\n",
            "\u001b[?25hCollecting spacy==3.5.1 (from -r cs224u/requirements.txt (line 13))\n",
            "  Downloading spacy-3.5.1-cp310-cp310-manylinux_2_17_x86_64.manylinux2014_x86_64.whl (6.6 MB)\n",
            "\u001b[2K     \u001b[90m━━━━━━━━━━━━━━━━━━━━━━━━━━━━━━━━━━━━━━━━\u001b[0m \u001b[32m6.6/6.6 MB\u001b[0m \u001b[31m91.0 MB/s\u001b[0m eta \u001b[36m0:00:00\u001b[0m\n",
            "\u001b[?25hCollecting cohere (from -r cs224u/requirements.txt (line 16))\n",
            "  Downloading cohere-4.9.0-py3-none-any.whl (38 kB)\n",
            "Collecting openai (from -r cs224u/requirements.txt (line 17))\n",
            "  Downloading openai-0.27.8-py3-none-any.whl (73 kB)\n",
            "\u001b[2K     \u001b[90m━━━━━━━━━━━━━━━━━━━━━━━━━━━━━━━━━━━━━━━━\u001b[0m \u001b[32m73.6/73.6 kB\u001b[0m \u001b[31m6.8 MB/s\u001b[0m eta \u001b[36m0:00:00\u001b[0m\n",
            "\u001b[?25hRequirement already satisfied: typing-extensions in /usr/local/lib/python3.10/dist-packages (from torch==1.13.1->-r cs224u/requirements.txt (line 9)) (4.5.0)\n",
            "Collecting nvidia-cuda-runtime-cu11==11.7.99 (from torch==1.13.1->-r cs224u/requirements.txt (line 9))\n",
            "  Downloading nvidia_cuda_runtime_cu11-11.7.99-py3-none-manylinux1_x86_64.whl (849 kB)\n",
            "\u001b[2K     \u001b[90m━━━━━━━━━━━━━━━━━━━━━━━━━━━━━━━━━━━━━━\u001b[0m \u001b[32m849.3/849.3 kB\u001b[0m \u001b[31m54.2 MB/s\u001b[0m eta \u001b[36m0:00:00\u001b[0m\n",
            "\u001b[?25hCollecting nvidia-cudnn-cu11==8.5.0.96 (from torch==1.13.1->-r cs224u/requirements.txt (line 9))\n",
            "  Downloading nvidia_cudnn_cu11-8.5.0.96-2-py3-none-manylinux1_x86_64.whl (557.1 MB)\n",
            "\u001b[2K     \u001b[90m━━━━━━━━━━━━━━━━━━━━━━━━━━━━━━━━━━━━━━━\u001b[0m \u001b[32m557.1/557.1 MB\u001b[0m \u001b[31m2.9 MB/s\u001b[0m eta \u001b[36m0:00:00\u001b[0m\n",
            "\u001b[?25hCollecting nvidia-cublas-cu11==11.10.3.66 (from torch==1.13.1->-r cs224u/requirements.txt (line 9))\n",
            "  Downloading nvidia_cublas_cu11-11.10.3.66-py3-none-manylinux1_x86_64.whl (317.1 MB)\n",
            "\u001b[2K     \u001b[90m━━━━━━━━━━━━━━━━━━━━━━━━━━━━━━━━━━━━━━━\u001b[0m \u001b[32m317.1/317.1 MB\u001b[0m \u001b[31m2.8 MB/s\u001b[0m eta \u001b[36m0:00:00\u001b[0m\n",
            "\u001b[?25hCollecting nvidia-cuda-nvrtc-cu11==11.7.99 (from torch==1.13.1->-r cs224u/requirements.txt (line 9))\n",
            "  Downloading nvidia_cuda_nvrtc_cu11-11.7.99-2-py3-none-manylinux1_x86_64.whl (21.0 MB)\n",
            "\u001b[2K     \u001b[90m━━━━━━━━━━━━━━━━━━━━━━━━━━━━━━━━━━━━━━━━\u001b[0m \u001b[32m21.0/21.0 MB\u001b[0m \u001b[31m78.0 MB/s\u001b[0m eta \u001b[36m0:00:00\u001b[0m\n",
            "\u001b[?25hRequirement already satisfied: requests in /usr/local/lib/python3.10/dist-packages (from torchvision==0.14.1->-r cs224u/requirements.txt (line 10)) (2.27.1)\n",
            "Requirement already satisfied: pillow!=8.3.*,>=5.3.0 in /usr/local/lib/python3.10/dist-packages (from torchvision==0.14.1->-r cs224u/requirements.txt (line 10)) (8.4.0)\n",
            "Requirement already satisfied: filelock in /usr/local/lib/python3.10/dist-packages (from transformers==4.26.1->-r cs224u/requirements.txt (line 11)) (3.12.0)\n",
            "Collecting huggingface-hub<1.0,>=0.11.0 (from transformers==4.26.1->-r cs224u/requirements.txt (line 11))\n",
            "  Downloading huggingface_hub-0.15.1-py3-none-any.whl (236 kB)\n",
            "\u001b[2K     \u001b[90m━━━━━━━━━━━━━━━━━━━━━━━━━━━━━━━━━━━━━━\u001b[0m \u001b[32m236.8/236.8 kB\u001b[0m \u001b[31m27.2 MB/s\u001b[0m eta \u001b[36m0:00:00\u001b[0m\n",
            "\u001b[?25hRequirement already satisfied: packaging>=20.0 in /usr/local/lib/python3.10/dist-packages (from transformers==4.26.1->-r cs224u/requirements.txt (line 11)) (23.1)\n",
            "Requirement already satisfied: pyyaml>=5.1 in /usr/local/lib/python3.10/dist-packages (from transformers==4.26.1->-r cs224u/requirements.txt (line 11)) (6.0)\n",
            "Requirement already satisfied: regex!=2019.12.17 in /usr/local/lib/python3.10/dist-packages (from transformers==4.26.1->-r cs224u/requirements.txt (line 11)) (2022.10.31)\n",
            "Collecting tokenizers!=0.11.3,<0.14,>=0.11.1 (from transformers==4.26.1->-r cs224u/requirements.txt (line 11))\n",
            "  Downloading tokenizers-0.13.3-cp310-cp310-manylinux_2_17_x86_64.manylinux2014_x86_64.whl (7.8 MB)\n",
            "\u001b[2K     \u001b[90m━━━━━━━━━━━━━━━━━━━━━━━━━━━━━━━━━━━━━━━━\u001b[0m \u001b[32m7.8/7.8 MB\u001b[0m \u001b[31m78.2 MB/s\u001b[0m eta \u001b[36m0:00:00\u001b[0m\n",
            "\u001b[?25hRequirement already satisfied: tqdm>=4.27 in /usr/local/lib/python3.10/dist-packages (from transformers==4.26.1->-r cs224u/requirements.txt (line 11)) (4.65.0)\n",
            "Requirement already satisfied: pyarrow>=6.0.0 in /usr/local/lib/python3.10/dist-packages (from datasets==2.10.1->-r cs224u/requirements.txt (line 12)) (9.0.0)\n",
            "Collecting dill<0.3.7,>=0.3.0 (from datasets==2.10.1->-r cs224u/requirements.txt (line 12))\n",
            "  Downloading dill-0.3.6-py3-none-any.whl (110 kB)\n",
            "\u001b[2K     \u001b[90m━━━━━━━━━━━━━━━━━━━━━━━━━━━━━━━━━━━━━━━\u001b[0m \u001b[32m110.5/110.5 kB\u001b[0m \u001b[31m5.4 MB/s\u001b[0m eta \u001b[36m0:00:00\u001b[0m\n",
            "\u001b[?25hCollecting xxhash (from datasets==2.10.1->-r cs224u/requirements.txt (line 12))\n",
            "  Downloading xxhash-3.2.0-cp310-cp310-manylinux_2_17_x86_64.manylinux2014_x86_64.whl (212 kB)\n",
            "\u001b[2K     \u001b[90m━━━━━━━━━━━━━━━━━━━━━━━━━━━━━━━━━━━━━━\u001b[0m \u001b[32m212.5/212.5 kB\u001b[0m \u001b[31m19.2 MB/s\u001b[0m eta \u001b[36m0:00:00\u001b[0m\n",
            "\u001b[?25hCollecting multiprocess (from datasets==2.10.1->-r cs224u/requirements.txt (line 12))\n",
            "  Downloading multiprocess-0.70.14-py310-none-any.whl (134 kB)\n",
            "\u001b[2K     \u001b[90m━━━━━━━━━━━━━━━━━━━━━━━━━━━━━━━━━━━━━━\u001b[0m \u001b[32m134.3/134.3 kB\u001b[0m \u001b[31m14.4 MB/s\u001b[0m eta \u001b[36m0:00:00\u001b[0m\n",
            "\u001b[?25hRequirement already satisfied: fsspec[http]>=2021.11.1 in /usr/local/lib/python3.10/dist-packages (from datasets==2.10.1->-r cs224u/requirements.txt (line 12)) (2023.4.0)\n",
            "Collecting aiohttp (from datasets==2.10.1->-r cs224u/requirements.txt (line 12))\n",
            "  Downloading aiohttp-3.8.4-cp310-cp310-manylinux_2_17_x86_64.manylinux2014_x86_64.whl (1.0 MB)\n",
            "\u001b[2K     \u001b[90m━━━━━━━━━━━━━━━━━━━━━━━━━━━━━━━━━━━━━━━━\u001b[0m \u001b[32m1.0/1.0 MB\u001b[0m \u001b[31m51.7 MB/s\u001b[0m eta \u001b[36m0:00:00\u001b[0m\n",
            "\u001b[?25hCollecting responses<0.19 (from datasets==2.10.1->-r cs224u/requirements.txt (line 12))\n",
            "  Downloading responses-0.18.0-py3-none-any.whl (38 kB)\n",
            "Requirement already satisfied: spacy-legacy<3.1.0,>=3.0.11 in /usr/local/lib/python3.10/dist-packages (from spacy==3.5.1->-r cs224u/requirements.txt (line 13)) (3.0.12)\n",
            "Requirement already satisfied: spacy-loggers<2.0.0,>=1.0.0 in /usr/local/lib/python3.10/dist-packages (from spacy==3.5.1->-r cs224u/requirements.txt (line 13)) (1.0.4)\n",
            "Requirement already satisfied: murmurhash<1.1.0,>=0.28.0 in /usr/local/lib/python3.10/dist-packages (from spacy==3.5.1->-r cs224u/requirements.txt (line 13)) (1.0.9)\n",
            "Requirement already satisfied: cymem<2.1.0,>=2.0.2 in /usr/local/lib/python3.10/dist-packages (from spacy==3.5.1->-r cs224u/requirements.txt (line 13)) (2.0.7)\n",
            "Requirement already satisfied: preshed<3.1.0,>=3.0.2 in /usr/local/lib/python3.10/dist-packages (from spacy==3.5.1->-r cs224u/requirements.txt (line 13)) (3.0.8)\n",
            "Requirement already satisfied: thinc<8.2.0,>=8.1.8 in /usr/local/lib/python3.10/dist-packages (from spacy==3.5.1->-r cs224u/requirements.txt (line 13)) (8.1.9)\n",
            "Requirement already satisfied: wasabi<1.2.0,>=0.9.1 in /usr/local/lib/python3.10/dist-packages (from spacy==3.5.1->-r cs224u/requirements.txt (line 13)) (1.1.1)\n",
            "Requirement already satisfied: srsly<3.0.0,>=2.4.3 in /usr/local/lib/python3.10/dist-packages (from spacy==3.5.1->-r cs224u/requirements.txt (line 13)) (2.4.6)\n",
            "Requirement already satisfied: catalogue<2.1.0,>=2.0.6 in /usr/local/lib/python3.10/dist-packages (from spacy==3.5.1->-r cs224u/requirements.txt (line 13)) (2.0.8)\n",
            "Requirement already satisfied: typer<0.8.0,>=0.3.0 in /usr/local/lib/python3.10/dist-packages (from spacy==3.5.1->-r cs224u/requirements.txt (line 13)) (0.7.0)\n",
            "Requirement already satisfied: pathy>=0.10.0 in /usr/local/lib/python3.10/dist-packages (from spacy==3.5.1->-r cs224u/requirements.txt (line 13)) (0.10.1)\n",
            "Requirement already satisfied: smart-open<7.0.0,>=5.2.1 in /usr/local/lib/python3.10/dist-packages (from spacy==3.5.1->-r cs224u/requirements.txt (line 13)) (6.3.0)\n",
            "Requirement already satisfied: pydantic!=1.8,!=1.8.1,<1.11.0,>=1.7.4 in /usr/local/lib/python3.10/dist-packages (from spacy==3.5.1->-r cs224u/requirements.txt (line 13)) (1.10.7)\n",
            "Requirement already satisfied: jinja2 in /usr/local/lib/python3.10/dist-packages (from spacy==3.5.1->-r cs224u/requirements.txt (line 13)) (3.1.2)\n",
            "Requirement already satisfied: setuptools in /usr/local/lib/python3.10/dist-packages (from spacy==3.5.1->-r cs224u/requirements.txt (line 13)) (67.7.2)\n",
            "Requirement already satisfied: langcodes<4.0.0,>=3.2.0 in /usr/local/lib/python3.10/dist-packages (from spacy==3.5.1->-r cs224u/requirements.txt (line 13)) (3.3.0)\n",
            "Requirement already satisfied: wheel in /usr/local/lib/python3.10/dist-packages (from nvidia-cublas-cu11==11.10.3.66->torch==1.13.1->-r cs224u/requirements.txt (line 9)) (0.40.0)\n",
            "Requirement already satisfied: contourpy>=1.0.1 in /usr/local/lib/python3.10/dist-packages (from matplotlib>=3.7.0->-r cs224u/requirements.txt (line 3)) (1.0.7)\n",
            "Requirement already satisfied: cycler>=0.10 in /usr/local/lib/python3.10/dist-packages (from matplotlib>=3.7.0->-r cs224u/requirements.txt (line 3)) (0.11.0)\n",
            "Requirement already satisfied: fonttools>=4.22.0 in /usr/local/lib/python3.10/dist-packages (from matplotlib>=3.7.0->-r cs224u/requirements.txt (line 3)) (4.39.3)\n",
            "Requirement already satisfied: kiwisolver>=1.0.1 in /usr/local/lib/python3.10/dist-packages (from matplotlib>=3.7.0->-r cs224u/requirements.txt (line 3)) (1.4.4)\n",
            "Requirement already satisfied: pyparsing>=2.3.1 in /usr/local/lib/python3.10/dist-packages (from matplotlib>=3.7.0->-r cs224u/requirements.txt (line 3)) (3.0.9)\n",
            "Requirement already satisfied: python-dateutil>=2.7 in /usr/local/lib/python3.10/dist-packages (from matplotlib>=3.7.0->-r cs224u/requirements.txt (line 3)) (2.8.2)\n",
            "Requirement already satisfied: joblib>=1.1.1 in /usr/local/lib/python3.10/dist-packages (from scikit-learn>=1.0.2->-r cs224u/requirements.txt (line 4)) (1.2.0)\n",
            "Requirement already satisfied: threadpoolctl>=2.0.0 in /usr/local/lib/python3.10/dist-packages (from scikit-learn>=1.0.2->-r cs224u/requirements.txt (line 4)) (3.1.0)\n",
            "Requirement already satisfied: click in /usr/local/lib/python3.10/dist-packages (from nltk>=3.7->-r cs224u/requirements.txt (line 5)) (8.1.3)\n",
            "Requirement already satisfied: attrs>=19.2.0 in /usr/local/lib/python3.10/dist-packages (from pytest>=7.1->-r cs224u/requirements.txt (line 6)) (23.1.0)\n",
            "Requirement already satisfied: iniconfig in /usr/local/lib/python3.10/dist-packages (from pytest>=7.1->-r cs224u/requirements.txt (line 6)) (2.0.0)\n",
            "Requirement already satisfied: pluggy<2.0,>=0.12 in /usr/local/lib/python3.10/dist-packages (from pytest>=7.1->-r cs224u/requirements.txt (line 6)) (1.0.0)\n",
            "Requirement already satisfied: exceptiongroup>=1.0.0rc8 in /usr/local/lib/python3.10/dist-packages (from pytest>=7.1->-r cs224u/requirements.txt (line 6)) (1.1.1)\n",
            "Requirement already satisfied: tomli>=1.0.0 in /usr/local/lib/python3.10/dist-packages (from pytest>=7.1->-r cs224u/requirements.txt (line 6)) (2.0.1)\n",
            "Requirement already satisfied: notebook in /usr/local/lib/python3.10/dist-packages (from jupyter>=1.0.0->-r cs224u/requirements.txt (line 7)) (6.4.8)\n",
            "Collecting qtconsole (from jupyter>=1.0.0->-r cs224u/requirements.txt (line 7))\n",
            "  Downloading qtconsole-5.4.3-py3-none-any.whl (121 kB)\n",
            "\u001b[2K     \u001b[90m━━━━━━━━━━━━━━━━━━━━━━━━━━━━━━━━━━━━━━\u001b[0m \u001b[32m121.9/121.9 kB\u001b[0m \u001b[31m12.0 MB/s\u001b[0m eta \u001b[36m0:00:00\u001b[0m\n",
            "\u001b[?25hRequirement already satisfied: jupyter-console in /usr/local/lib/python3.10/dist-packages (from jupyter>=1.0.0->-r cs224u/requirements.txt (line 7)) (6.1.0)\n",
            "Requirement already satisfied: nbconvert in /usr/local/lib/python3.10/dist-packages (from jupyter>=1.0.0->-r cs224u/requirements.txt (line 7)) (6.5.4)\n",
            "Requirement already satisfied: ipykernel in /usr/local/lib/python3.10/dist-packages (from jupyter>=1.0.0->-r cs224u/requirements.txt (line 7)) (5.5.6)\n",
            "Requirement already satisfied: ipywidgets in /usr/local/lib/python3.10/dist-packages (from jupyter>=1.0.0->-r cs224u/requirements.txt (line 7)) (7.7.1)\n",
            "Requirement already satisfied: pytz>=2020.1 in /usr/local/lib/python3.10/dist-packages (from pandas>=1.5->-r cs224u/requirements.txt (line 8)) (2022.7.1)\n",
            "Collecting backoff (from dsp-ml==0.1.5->-r cs224u/requirements.txt (line 15))\n",
            "  Downloading backoff-2.2.1-py3-none-any.whl (15 kB)\n",
            "Collecting ujson (from dsp-ml==0.1.5->-r cs224u/requirements.txt (line 15))\n",
            "  Downloading ujson-5.7.0-cp310-cp310-manylinux_2_17_x86_64.manylinux2014_x86_64.whl (52 kB)\n",
            "\u001b[2K     \u001b[90m━━━━━━━━━━━━━━━━━━━━━━━━━━━━━━━━━━━━━━━━\u001b[0m \u001b[32m52.8/52.8 kB\u001b[0m \u001b[31m5.4 MB/s\u001b[0m eta \u001b[36m0:00:00\u001b[0m\n",
            "\u001b[?25hRequirement already satisfied: charset-normalizer<4.0,>=2.0 in /usr/local/lib/python3.10/dist-packages (from aiohttp->datasets==2.10.1->-r cs224u/requirements.txt (line 12)) (2.0.12)\n",
            "Collecting multidict<7.0,>=4.5 (from aiohttp->datasets==2.10.1->-r cs224u/requirements.txt (line 12))\n",
            "  Downloading multidict-6.0.4-cp310-cp310-manylinux_2_17_x86_64.manylinux2014_x86_64.whl (114 kB)\n",
            "\u001b[2K     \u001b[90m━━━━━━━━━━━━━━━━━━━━━━━━━━━━━━━━━━━━━━\u001b[0m \u001b[32m114.5/114.5 kB\u001b[0m \u001b[31m10.5 MB/s\u001b[0m eta \u001b[36m0:00:00\u001b[0m\n",
            "\u001b[?25hCollecting async-timeout<5.0,>=4.0.0a3 (from aiohttp->datasets==2.10.1->-r cs224u/requirements.txt (line 12))\n",
            "  Downloading async_timeout-4.0.2-py3-none-any.whl (5.8 kB)\n",
            "Collecting yarl<2.0,>=1.0 (from aiohttp->datasets==2.10.1->-r cs224u/requirements.txt (line 12))\n",
            "  Downloading yarl-1.9.2-cp310-cp310-manylinux_2_17_x86_64.manylinux2014_x86_64.whl (268 kB)\n",
            "\u001b[2K     \u001b[90m━━━━━━━━━━━━━━━━━━━━━━━━━━━━━━━━━━━━━━\u001b[0m \u001b[32m268.8/268.8 kB\u001b[0m \u001b[31m28.1 MB/s\u001b[0m eta \u001b[36m0:00:00\u001b[0m\n",
            "\u001b[?25hCollecting frozenlist>=1.1.1 (from aiohttp->datasets==2.10.1->-r cs224u/requirements.txt (line 12))\n",
            "  Downloading frozenlist-1.3.3-cp310-cp310-manylinux_2_5_x86_64.manylinux1_x86_64.manylinux_2_17_x86_64.manylinux2014_x86_64.whl (149 kB)\n",
            "\u001b[2K     \u001b[90m━━━━━━━━━━━━━━━━━━━━━━━━━━━━━━━━━━━━━━\u001b[0m \u001b[32m149.6/149.6 kB\u001b[0m \u001b[31m17.6 MB/s\u001b[0m eta \u001b[36m0:00:00\u001b[0m\n",
            "\u001b[?25hCollecting aiosignal>=1.1.2 (from aiohttp->datasets==2.10.1->-r cs224u/requirements.txt (line 12))\n",
            "  Downloading aiosignal-1.3.1-py3-none-any.whl (7.6 kB)\n",
            "Requirement already satisfied: six>=1.5 in /usr/local/lib/python3.10/dist-packages (from python-dateutil>=2.7->matplotlib>=3.7.0->-r cs224u/requirements.txt (line 3)) (1.16.0)\n",
            "Requirement already satisfied: urllib3<1.27,>=1.21.1 in /usr/local/lib/python3.10/dist-packages (from requests->torchvision==0.14.1->-r cs224u/requirements.txt (line 10)) (1.26.15)\n",
            "Requirement already satisfied: certifi>=2017.4.17 in /usr/local/lib/python3.10/dist-packages (from requests->torchvision==0.14.1->-r cs224u/requirements.txt (line 10)) (2022.12.7)\n",
            "Requirement already satisfied: idna<4,>=2.5 in /usr/local/lib/python3.10/dist-packages (from requests->torchvision==0.14.1->-r cs224u/requirements.txt (line 10)) (3.4)\n",
            "Requirement already satisfied: blis<0.8.0,>=0.7.8 in /usr/local/lib/python3.10/dist-packages (from thinc<8.2.0,>=8.1.8->spacy==3.5.1->-r cs224u/requirements.txt (line 13)) (0.7.9)\n",
            "Requirement already satisfied: confection<1.0.0,>=0.0.1 in /usr/local/lib/python3.10/dist-packages (from thinc<8.2.0,>=8.1.8->spacy==3.5.1->-r cs224u/requirements.txt (line 13)) (0.0.4)\n",
            "Requirement already satisfied: ipython-genutils in /usr/local/lib/python3.10/dist-packages (from ipykernel->jupyter>=1.0.0->-r cs224u/requirements.txt (line 7)) (0.2.0)\n",
            "Requirement already satisfied: ipython>=5.0.0 in /usr/local/lib/python3.10/dist-packages (from ipykernel->jupyter>=1.0.0->-r cs224u/requirements.txt (line 7)) (7.34.0)\n",
            "Requirement already satisfied: traitlets>=4.1.0 in /usr/local/lib/python3.10/dist-packages (from ipykernel->jupyter>=1.0.0->-r cs224u/requirements.txt (line 7)) (5.7.1)\n",
            "Requirement already satisfied: jupyter-client in /usr/local/lib/python3.10/dist-packages (from ipykernel->jupyter>=1.0.0->-r cs224u/requirements.txt (line 7)) (6.1.12)\n",
            "Requirement already satisfied: tornado>=4.2 in /usr/local/lib/python3.10/dist-packages (from ipykernel->jupyter>=1.0.0->-r cs224u/requirements.txt (line 7)) (6.3.1)\n",
            "Requirement already satisfied: widgetsnbextension~=3.6.0 in /usr/local/lib/python3.10/dist-packages (from ipywidgets->jupyter>=1.0.0->-r cs224u/requirements.txt (line 7)) (3.6.4)\n",
            "Requirement already satisfied: jupyterlab-widgets>=1.0.0 in /usr/local/lib/python3.10/dist-packages (from ipywidgets->jupyter>=1.0.0->-r cs224u/requirements.txt (line 7)) (3.0.7)\n",
            "Requirement already satisfied: MarkupSafe>=2.0 in /usr/local/lib/python3.10/dist-packages (from jinja2->spacy==3.5.1->-r cs224u/requirements.txt (line 13)) (2.1.2)\n",
            "Requirement already satisfied: prompt-toolkit!=3.0.0,!=3.0.1,<3.1.0,>=2.0.0 in /usr/local/lib/python3.10/dist-packages (from jupyter-console->jupyter>=1.0.0->-r cs224u/requirements.txt (line 7)) (3.0.38)\n",
            "Requirement already satisfied: pygments in /usr/local/lib/python3.10/dist-packages (from jupyter-console->jupyter>=1.0.0->-r cs224u/requirements.txt (line 7)) (2.14.0)\n",
            "Requirement already satisfied: lxml in /usr/local/lib/python3.10/dist-packages (from nbconvert->jupyter>=1.0.0->-r cs224u/requirements.txt (line 7)) (4.9.2)\n",
            "Requirement already satisfied: beautifulsoup4 in /usr/local/lib/python3.10/dist-packages (from nbconvert->jupyter>=1.0.0->-r cs224u/requirements.txt (line 7)) (4.11.2)\n",
            "Requirement already satisfied: bleach in /usr/local/lib/python3.10/dist-packages (from nbconvert->jupyter>=1.0.0->-r cs224u/requirements.txt (line 7)) (6.0.0)\n",
            "Requirement already satisfied: defusedxml in /usr/local/lib/python3.10/dist-packages (from nbconvert->jupyter>=1.0.0->-r cs224u/requirements.txt (line 7)) (0.7.1)\n",
            "Requirement already satisfied: entrypoints>=0.2.2 in /usr/local/lib/python3.10/dist-packages (from nbconvert->jupyter>=1.0.0->-r cs224u/requirements.txt (line 7)) (0.4)\n",
            "Requirement already satisfied: jupyter-core>=4.7 in /usr/local/lib/python3.10/dist-packages (from nbconvert->jupyter>=1.0.0->-r cs224u/requirements.txt (line 7)) (5.3.0)\n",
            "Requirement already satisfied: jupyterlab-pygments in /usr/local/lib/python3.10/dist-packages (from nbconvert->jupyter>=1.0.0->-r cs224u/requirements.txt (line 7)) (0.2.2)\n",
            "Requirement already satisfied: mistune<2,>=0.8.1 in /usr/local/lib/python3.10/dist-packages (from nbconvert->jupyter>=1.0.0->-r cs224u/requirements.txt (line 7)) (0.8.4)\n",
            "Requirement already satisfied: nbclient>=0.5.0 in /usr/local/lib/python3.10/dist-packages (from nbconvert->jupyter>=1.0.0->-r cs224u/requirements.txt (line 7)) (0.7.4)\n",
            "Requirement already satisfied: nbformat>=5.1 in /usr/local/lib/python3.10/dist-packages (from nbconvert->jupyter>=1.0.0->-r cs224u/requirements.txt (line 7)) (5.8.0)\n",
            "Requirement already satisfied: pandocfilters>=1.4.1 in /usr/local/lib/python3.10/dist-packages (from nbconvert->jupyter>=1.0.0->-r cs224u/requirements.txt (line 7)) (1.5.0)\n",
            "Requirement already satisfied: tinycss2 in /usr/local/lib/python3.10/dist-packages (from nbconvert->jupyter>=1.0.0->-r cs224u/requirements.txt (line 7)) (1.2.1)\n",
            "Requirement already satisfied: pyzmq>=17 in /usr/local/lib/python3.10/dist-packages (from notebook->jupyter>=1.0.0->-r cs224u/requirements.txt (line 7)) (23.2.1)\n",
            "Requirement already satisfied: argon2-cffi in /usr/local/lib/python3.10/dist-packages (from notebook->jupyter>=1.0.0->-r cs224u/requirements.txt (line 7)) (21.3.0)\n",
            "Requirement already satisfied: nest-asyncio>=1.5 in /usr/local/lib/python3.10/dist-packages (from notebook->jupyter>=1.0.0->-r cs224u/requirements.txt (line 7)) (1.5.6)\n",
            "Requirement already satisfied: Send2Trash>=1.8.0 in /usr/local/lib/python3.10/dist-packages (from notebook->jupyter>=1.0.0->-r cs224u/requirements.txt (line 7)) (1.8.0)\n",
            "Requirement already satisfied: terminado>=0.8.3 in /usr/local/lib/python3.10/dist-packages (from notebook->jupyter>=1.0.0->-r cs224u/requirements.txt (line 7)) (0.17.1)\n",
            "Requirement already satisfied: prometheus-client in /usr/local/lib/python3.10/dist-packages (from notebook->jupyter>=1.0.0->-r cs224u/requirements.txt (line 7)) (0.16.0)\n",
            "Collecting qtpy>=2.0.1 (from qtconsole->jupyter>=1.0.0->-r cs224u/requirements.txt (line 7))\n",
            "  Downloading QtPy-2.3.1-py3-none-any.whl (84 kB)\n",
            "\u001b[2K     \u001b[90m━━━━━━━━━━━━━━━━━━━━━━━━━━━━━━━━━━━━━━━━\u001b[0m \u001b[32m84.9/84.9 kB\u001b[0m \u001b[31m9.4 MB/s\u001b[0m eta \u001b[36m0:00:00\u001b[0m\n",
            "\u001b[?25hCollecting jedi>=0.16 (from ipython>=5.0.0->ipykernel->jupyter>=1.0.0->-r cs224u/requirements.txt (line 7))\n",
            "  Downloading jedi-0.18.2-py2.py3-none-any.whl (1.6 MB)\n",
            "\u001b[2K     \u001b[90m━━━━━━━━━━━━━━━━━━━━━━━━━━━━━━━━━━━━━━━━\u001b[0m \u001b[32m1.6/1.6 MB\u001b[0m \u001b[31m74.6 MB/s\u001b[0m eta \u001b[36m0:00:00\u001b[0m\n",
            "\u001b[?25hRequirement already satisfied: decorator in /usr/local/lib/python3.10/dist-packages (from ipython>=5.0.0->ipykernel->jupyter>=1.0.0->-r cs224u/requirements.txt (line 7)) (4.4.2)\n",
            "Requirement already satisfied: pickleshare in /usr/local/lib/python3.10/dist-packages (from ipython>=5.0.0->ipykernel->jupyter>=1.0.0->-r cs224u/requirements.txt (line 7)) (0.7.5)\n",
            "Requirement already satisfied: backcall in /usr/local/lib/python3.10/dist-packages (from ipython>=5.0.0->ipykernel->jupyter>=1.0.0->-r cs224u/requirements.txt (line 7)) (0.2.0)\n",
            "Requirement already satisfied: matplotlib-inline in /usr/local/lib/python3.10/dist-packages (from ipython>=5.0.0->ipykernel->jupyter>=1.0.0->-r cs224u/requirements.txt (line 7)) (0.1.6)\n",
            "Requirement already satisfied: pexpect>4.3 in /usr/local/lib/python3.10/dist-packages (from ipython>=5.0.0->ipykernel->jupyter>=1.0.0->-r cs224u/requirements.txt (line 7)) (4.8.0)\n",
            "Requirement already satisfied: platformdirs>=2.5 in /usr/local/lib/python3.10/dist-packages (from jupyter-core>=4.7->nbconvert->jupyter>=1.0.0->-r cs224u/requirements.txt (line 7)) (3.3.0)\n",
            "Requirement already satisfied: fastjsonschema in /usr/local/lib/python3.10/dist-packages (from nbformat>=5.1->nbconvert->jupyter>=1.0.0->-r cs224u/requirements.txt (line 7)) (2.16.3)\n",
            "Requirement already satisfied: jsonschema>=2.6 in /usr/local/lib/python3.10/dist-packages (from nbformat>=5.1->nbconvert->jupyter>=1.0.0->-r cs224u/requirements.txt (line 7)) (4.3.3)\n",
            "Requirement already satisfied: wcwidth in /usr/local/lib/python3.10/dist-packages (from prompt-toolkit!=3.0.0,!=3.0.1,<3.1.0,>=2.0.0->jupyter-console->jupyter>=1.0.0->-r cs224u/requirements.txt (line 7)) (0.2.6)\n",
            "Requirement already satisfied: ptyprocess in /usr/local/lib/python3.10/dist-packages (from terminado>=0.8.3->notebook->jupyter>=1.0.0->-r cs224u/requirements.txt (line 7)) (0.7.0)\n",
            "Requirement already satisfied: argon2-cffi-bindings in /usr/local/lib/python3.10/dist-packages (from argon2-cffi->notebook->jupyter>=1.0.0->-r cs224u/requirements.txt (line 7)) (21.2.0)\n",
            "Requirement already satisfied: soupsieve>1.2 in /usr/local/lib/python3.10/dist-packages (from beautifulsoup4->nbconvert->jupyter>=1.0.0->-r cs224u/requirements.txt (line 7)) (2.4.1)\n",
            "Requirement already satisfied: webencodings in /usr/local/lib/python3.10/dist-packages (from bleach->nbconvert->jupyter>=1.0.0->-r cs224u/requirements.txt (line 7)) (0.5.1)\n",
            "Requirement already satisfied: parso<0.9.0,>=0.8.0 in /usr/local/lib/python3.10/dist-packages (from jedi>=0.16->ipython>=5.0.0->ipykernel->jupyter>=1.0.0->-r cs224u/requirements.txt (line 7)) (0.8.3)\n",
            "Requirement already satisfied: pyrsistent!=0.17.0,!=0.17.1,!=0.17.2,>=0.14.0 in /usr/local/lib/python3.10/dist-packages (from jsonschema>=2.6->nbformat>=5.1->nbconvert->jupyter>=1.0.0->-r cs224u/requirements.txt (line 7)) (0.19.3)\n",
            "Requirement already satisfied: cffi>=1.0.1 in /usr/local/lib/python3.10/dist-packages (from argon2-cffi-bindings->argon2-cffi->notebook->jupyter>=1.0.0->-r cs224u/requirements.txt (line 7)) (1.15.1)\n",
            "Requirement already satisfied: pycparser in /usr/local/lib/python3.10/dist-packages (from cffi>=1.0.1->argon2-cffi-bindings->argon2-cffi->notebook->jupyter>=1.0.0->-r cs224u/requirements.txt (line 7)) (2.21)\n",
            "Building wheels for collected packages: dsp-ml\n",
            "  Building wheel for dsp-ml (setup.py) ... \u001b[?25l\u001b[?25hdone\n",
            "  Created wheel for dsp-ml: filename=dsp_ml-0.1.5-py3-none-any.whl size=37803 sha256=56172259f97d5b088848290fb1ea483cf26fcc7f41c919177765d870a6258d46\n",
            "  Stored in directory: /tmp/pip-ephem-wheel-cache-ncuvidt3/wheels/b9/cc/21/df1431394d64701ffb9d4a5a20afe701a19275c3090b73fd0e\n",
            "Successfully built dsp-ml\n",
            "Installing collected packages: tokenizers, xxhash, ujson, qtpy, nvidia-cuda-runtime-cu11, nvidia-cuda-nvrtc-cu11, nvidia-cublas-cu11, multidict, jedi, frozenlist, dill, backoff, async-timeout, yarl, responses, nvidia-cudnn-cu11, multiprocess, huggingface-hub, aiosignal, transformers, torch, aiohttp, torchvision, spacy, qtconsole, openai, cohere, datasets, jupyter, dsp-ml\n",
            "  Attempting uninstall: torch\n",
            "    Found existing installation: torch 2.0.1+cu118\n",
            "    Uninstalling torch-2.0.1+cu118:\n",
            "      Successfully uninstalled torch-2.0.1+cu118\n",
            "  Attempting uninstall: torchvision\n",
            "    Found existing installation: torchvision 0.15.2+cu118\n",
            "    Uninstalling torchvision-0.15.2+cu118:\n",
            "      Successfully uninstalled torchvision-0.15.2+cu118\n",
            "  Attempting uninstall: spacy\n",
            "    Found existing installation: spacy 3.5.2\n",
            "    Uninstalling spacy-3.5.2:\n",
            "      Successfully uninstalled spacy-3.5.2\n",
            "\u001b[31mERROR: pip's dependency resolver does not currently take into account all the packages that are installed. This behaviour is the source of the following dependency conflicts.\n",
            "torchaudio 2.0.2+cu118 requires torch==2.0.1, but you have torch 1.13.1 which is incompatible.\n",
            "torchdata 0.6.1 requires torch==2.0.1, but you have torch 1.13.1 which is incompatible.\n",
            "torchtext 0.15.2 requires torch==2.0.1, but you have torch 1.13.1 which is incompatible.\u001b[0m\u001b[31m\n",
            "\u001b[0mSuccessfully installed aiohttp-3.8.4 aiosignal-1.3.1 async-timeout-4.0.2 backoff-2.2.1 cohere-4.9.0 datasets-2.10.1 dill-0.3.6 dsp-ml-0.1.5 frozenlist-1.3.3 huggingface-hub-0.15.1 jedi-0.18.2 jupyter-1.0.0 multidict-6.0.4 multiprocess-0.70.14 nvidia-cublas-cu11-11.10.3.66 nvidia-cuda-nvrtc-cu11-11.7.99 nvidia-cuda-runtime-cu11-11.7.99 nvidia-cudnn-cu11-8.5.0.96 openai-0.27.8 qtconsole-5.4.3 qtpy-2.3.1 responses-0.18.0 spacy-3.5.1 tokenizers-0.13.3 torch-1.13.1 torchvision-0.14.1 transformers-4.26.1 ujson-5.7.0 xxhash-3.2.0 yarl-1.9.2\n"
          ]
        }
      ],
      "source": [
        "try: \n",
        "    # This library is our indicator that the required installs\n",
        "    # need to be done.\n",
        "    import datasets\n",
        "    root_path = '.'\n",
        "except ModuleNotFoundError:\n",
        "    !git clone https://github.com/cgpotts/cs224u/\n",
        "    !pip install -r cs224u/requirements.txt\n",
        "    root_path = 'dsp'"
      ]
    },
    {
      "cell_type": "markdown",
      "source": [
        "Now we import modules to work with DSP, OpenAI, HuggingFace, and Cohere models"
      ],
      "metadata": {
        "id": "mOyqFOZQJ3X1"
      }
    },
    {
      "cell_type": "code",
      "source": [
        "import pandas as pd \n",
        "import cohere\n",
        "from datasets import load_dataset\n",
        "import openai\n",
        "import re\n",
        "import os\n",
        "import dsp\n",
        "import transformers"
      ],
      "metadata": {
        "id": "cOdafIXAJBbA"
      },
      "execution_count": 2,
      "outputs": []
    },
    {
      "cell_type": "markdown",
      "source": [
        "Now we import key variables such as API keys. Steps:\n",
        "\n",
        "1) Create a keys.txt file in the root of your /content/ folder in the Colab instance\n",
        "\n",
        "2) Define the API keys you will use \n",
        "\n",
        "3) Run the cell below to import the file"
      ],
      "metadata": {
        "id": "i4FR-mNlJ9rw"
      }
    },
    {
      "cell_type": "code",
      "source": [
        "# Read the contents of the file\n",
        "with open('/content/keys.txt', 'r') as file:\n",
        "    file_contents = file.read()\n",
        "\n",
        "# Assign the variables\n",
        "exec(file_contents)\n",
        "\n",
        "os.environ[\"DSP_NOTEBOOK_CACHEDIR\"] = os.path.join(root_path, 'cache')\n",
        "openai_key = OPENAI_API_KEY  \n",
        "cohere_key = COHERE_API_KEY  "
      ],
      "metadata": {
        "id": "92qnhnLnJGmj"
      },
      "execution_count": 3,
      "outputs": []
    },
    {
      "cell_type": "markdown",
      "source": [
        "## Model setting\n",
        "\n",
        "Now we define a choice of LM and setup the DSP environment."
      ],
      "metadata": {
        "id": "r4BukR4-LE_h"
      }
    },
    {
      "cell_type": "code",
      "source": [
        "[d[\"root\"] for d in openai.Model.list(api_key=openai_key)[\"data\"]]"
      ],
      "metadata": {
        "colab": {
          "base_uri": "https://localhost:8080/"
        },
        "id": "q11lHHwd5217",
        "outputId": "7276ba5e-a03b-42b6-b7ed-0662d2ff8d79"
      },
      "execution_count": 56,
      "outputs": [
        {
          "output_type": "execute_result",
          "data": {
            "text/plain": [
              "['whisper-1',\n",
              " 'babbage',\n",
              " 'davinci',\n",
              " 'text-davinci-edit-001',\n",
              " 'babbage-code-search-code',\n",
              " 'text-similarity-babbage-001',\n",
              " 'code-davinci-edit-001',\n",
              " 'text-davinci-001',\n",
              " 'ada',\n",
              " 'babbage-code-search-text',\n",
              " 'babbage-similarity',\n",
              " 'code-search-babbage-text-001',\n",
              " 'text-curie-001',\n",
              " 'code-search-babbage-code-001',\n",
              " 'text-embedding-ada-002',\n",
              " 'text-ada-001',\n",
              " 'text-similarity-ada-001',\n",
              " 'curie-instruct-beta',\n",
              " 'ada-code-search-code',\n",
              " 'ada-similarity',\n",
              " 'code-search-ada-text-001',\n",
              " 'text-search-ada-query-001',\n",
              " 'davinci-search-document',\n",
              " 'ada-code-search-text',\n",
              " 'text-search-ada-doc-001',\n",
              " 'davinci-instruct-beta',\n",
              " 'text-similarity-curie-001',\n",
              " 'code-search-ada-code-001',\n",
              " 'ada-search-query',\n",
              " 'text-search-davinci-query-001',\n",
              " 'curie-search-query',\n",
              " 'davinci-search-query',\n",
              " 'babbage-search-document',\n",
              " 'ada-search-document',\n",
              " 'text-search-curie-query-001',\n",
              " 'text-search-babbage-doc-001',\n",
              " 'curie-search-document',\n",
              " 'text-search-curie-doc-001',\n",
              " 'babbage-search-query',\n",
              " 'text-babbage-001',\n",
              " 'text-search-davinci-doc-001',\n",
              " 'text-search-babbage-query-001',\n",
              " 'curie-similarity',\n",
              " 'curie',\n",
              " 'text-similarity-davinci-001',\n",
              " 'text-davinci-002',\n",
              " 'gpt-4-0314',\n",
              " 'gpt-3.5-turbo',\n",
              " 'text-davinci-003',\n",
              " 'davinci-similarity',\n",
              " 'gpt-4',\n",
              " 'gpt-3.5-turbo-0301']"
            ]
          },
          "metadata": {},
          "execution_count": 56
        }
      ]
    },
    {
      "cell_type": "code",
      "source": [
        "## Define the mode (uncomment appropriate line)\n",
        "\n",
        "#lm = dsp.GPT3(model = \"gpt-3.5-turbo\", api_key=openai_key, model_type=\"chat\")\n",
        "lm = dsp.GPT3(model = \"gpt-4\", api_key=openai_key, model_type=\"chat\")\n",
        "#lm = dsp.Cohere(model = \"command-xlarge-nightly\", api_key=cohere_key)\n",
        "\n",
        "dsp.settings.configure(lm=lm)\n",
        "dsp.settings.show_guidelines = True"
      ],
      "metadata": {
        "id": "R-qXw7kxLPYp"
      },
      "execution_count": 57,
      "outputs": []
    },
    {
      "cell_type": "markdown",
      "source": [
        "### Loading the dataset\n",
        "Upload a tab separated version of the dataset to /content/."
      ],
      "metadata": {
        "id": "4viPCioLLwRf"
      }
    },
    {
      "cell_type": "code",
      "source": [
        "df = pd.read_csv('ipcc_statements_dataset.tsv', sep='\\t', skiprows=0)\n",
        "\n",
        "train_set = df.loc[df['split'] == 'train']\n",
        "test_set = df.loc[df['split'] == 'test']\n",
        "\n",
        "test_set.tail"
      ],
      "metadata": {
        "colab": {
          "base_uri": "https://localhost:8080/"
        },
        "id": "OssAa2klLvzW",
        "outputId": "ea6d3918-ea94-4736-9278-15397d284aaa"
      },
      "execution_count": 5,
      "outputs": [
        {
          "output_type": "execute_result",
          "data": {
            "text/plain": [
              "<bound method NDFrame.tail of       statement_idx     report  page_num  sent_num  \\\n",
              "3                 3    AR6_WGI        24         2   \n",
              "42               42    AR6_WGI        37        16   \n",
              "77               77    AR6_WGI        47         7   \n",
              "81               81    AR6_WGI        62         2   \n",
              "86               86    AR6_WGI        63         8   \n",
              "...             ...        ...       ...       ...   \n",
              "8024           8024  AR6_WGIII      1827        13   \n",
              "8056           8056  AR6_WGIII      2011         5   \n",
              "8067           8067  AR6_WGIII      2012         8   \n",
              "8086           8086  AR6_WGIII      2016         8   \n",
              "8093           8093  AR6_WGIII      2058        21   \n",
              "\n",
              "                                              statement confidence  score  \\\n",
              "3     Since 1750, increases in CO2 (47%) and CH4 (15...  very high      3   \n",
              "42    Over the next 2000 years, global mean sea leve...        low      0   \n",
              "77    By the end of the century, scenarios with very...       high      2   \n",
              "81    Over the past millennium, and especially since...     medium      1   \n",
              "86    The paleo context supports the assessment that...       high      2   \n",
              "...                                                 ...        ...    ...   \n",
              "8024  REDD+ can significantly contribute to climate ...       high      2   \n",
              "8056  Large-scale bioenergy projects with CCS may be...     medium      1   \n",
              "8067  Reforestation and forest restoration can have ...     medium      1   \n",
              "8086  BEVs could create jobs associated with the EV ...        low      0   \n",
              "8093  For pathways that limit warming to 2°C (>67%) ...       high      2   \n",
              "\n",
              "     split  \n",
              "3     test  \n",
              "42    test  \n",
              "77    test  \n",
              "81    test  \n",
              "86    test  \n",
              "...    ...  \n",
              "8024  test  \n",
              "8056  test  \n",
              "8067  test  \n",
              "8086  test  \n",
              "8093  test  \n",
              "\n",
              "[300 rows x 8 columns]>"
            ]
          },
          "metadata": {},
          "execution_count": 5
        }
      ]
    },
    {
      "cell_type": "code",
      "source": [
        "ipcc_train = [dsp.Example(input=row['statement'], label=row['confidence'], score=row['score'], report=row['report'])\n",
        "                    for _, row in train_set.iterrows()]"
      ],
      "metadata": {
        "id": "-21GN7mGX17J"
      },
      "execution_count": 10,
      "outputs": []
    },
    {
      "cell_type": "code",
      "source": [
        "ipcc_train[:5]"
      ],
      "metadata": {
        "colab": {
          "base_uri": "https://localhost:8080/"
        },
        "id": "bMrlFsaPOJU-",
        "outputId": "0f40ccd1-7202-4283-b988-74631b4d9ed1"
      },
      "execution_count": 11,
      "outputs": [
        {
          "output_type": "execute_result",
          "data": {
            "text/plain": [
              "[{'input': 'Since 2011 (measurements reported in AR5), concentrations have continued to increase in the atmosphere, reaching annual averages of 410 parts per million (ppm) for carbon dioxide (CO 2), 1866 parts per billion (ppb) for methane (CH 4), and 332 ppb for nitrous oxide (N 2O) in 2019.6 Land and ocean have taken up a near-constant proportion (globally about 56% per year) of CO 2 emissions from human activities over the past six decades, with regional differences',\n",
              "  'label': 'high',\n",
              "  'score': 2,\n",
              "  'report': 'AR6_WGI'},\n",
              " {'input': 'Mid-latitude storm tracks have likely shifted poleward in both hemispheres since the 1980s, with marked seasonality in trends',\n",
              "  'label': 'medium',\n",
              "  'score': 1,\n",
              "  'report': 'AR6_WGI'},\n",
              " {'input': 'The average rate of sea level rise was 1.3 [0.6 to 2.1] mm yr–1 between 1901 and 1971, increasing to 1.9 [0.8 to 2.9] mm yr–1 between 1971 and 2006, and further increasing to 3.7 [3.2 to 4.2] mm yr–1 between 2006 and 2018',\n",
              "  'label': 'high',\n",
              "  'score': 2,\n",
              "  'report': 'AR6_WGI'},\n",
              " {'input': 'Temperatures during the most recent decade (2011–2020) exceed those of the most recent multi-century warm period, around 6500 years ago13 [0.2°C to 1°C relative to 1850–1900]',\n",
              "  'label': 'medium',\n",
              "  'score': 1,\n",
              "  'report': 'AR6_WGI'},\n",
              " {'input': 'Prior to that, the next most recent warm period was about 125,000 years ago, when the multi-century temperature [0.5°C to 1.5°C relative to 1850–1900] overlaps the observations of the most recent decade',\n",
              "  'label': 'medium',\n",
              "  'score': 1,\n",
              "  'report': 'AR6_WGI'},\n",
              " {'input': 'Late summer Arctic sea ice area was smaller than at any time in at least the past 1000 years',\n",
              "  'label': 'medium',\n",
              "  'score': 1,\n",
              "  'report': 'AR6_WGI'},\n",
              " {'input': 'The global nature of glacier retreat since the 1950s, with almost all of the world’s glaciers retreating synchronously, is unprecedented in at least the last 2000 years',\n",
              "  'label': 'medium',\n",
              "  'score': 1,\n",
              "  'report': 'AR6_WGI'},\n",
              " {'input': 'The global ocean has warmed faster over the past century than since the end of the last deglacial transition (around 11,000 years ago)',\n",
              "  'label': 'medium',\n",
              "  'score': 1,\n",
              "  'report': 'AR6_WGI'},\n",
              " {'input': 'A long-term increase in surface open ocean pH occurred over the past 50 million years',\n",
              "  'label': 'high',\n",
              "  'score': 2,\n",
              "  'report': 'AR6_WGI'},\n",
              " {'input': 'However, surface open ocean pH as low as recent decades is unusual in the last 2 million years',\n",
              "  'label': 'medium',\n",
              "  'score': 1,\n",
              "  'report': 'AR6_WGI'}]"
            ]
          },
          "metadata": {},
          "execution_count": 11
        }
      ]
    },
    {
      "cell_type": "markdown",
      "source": [
        "### Perform checks on dataset\n"
      ],
      "metadata": {
        "id": "bRFu3D9zmNck"
      }
    },
    {
      "cell_type": "code",
      "source": [
        "print(len(ipcc_train))\n",
        "print(len([ex for ex in ipcc_train if ex.label=='low']))\n",
        "print(len([ex for ex in ipcc_train if ex.report=='AR6_WGIII']))\n",
        "print(len([ex for ex in ipcc_train if ex.score==2]))"
      ],
      "metadata": {
        "colab": {
          "base_uri": "https://localhost:8080/"
        },
        "id": "s3tmicIyUUIj",
        "outputId": "a8ffc75a-b2b6-4c6e-d646-ac0187f4e00c"
      },
      "execution_count": 12,
      "outputs": [
        {
          "output_type": "stream",
          "name": "stdout",
          "text": [
            "7794\n",
            "241\n",
            "826\n",
            "4611\n"
          ]
        }
      ]
    },
    {
      "cell_type": "markdown",
      "source": [
        "## Split train set by confidence level"
      ],
      "metadata": {
        "id": "gRHwZiZ-FuD8"
      }
    },
    {
      "cell_type": "code",
      "source": [
        "train_ex = {}\n",
        "for confidence in ['low', 'medium', 'high', 'very high']: \n",
        "  train_ex[confidence] = [ex for ex in ipcc_train if ex.label==confidence]\n",
        "  print(f\"{confidence}: {len(train_ex[confidence])}\")"
      ],
      "metadata": {
        "colab": {
          "base_uri": "https://localhost:8080/"
        },
        "id": "ZwMRI_d-FwYt",
        "outputId": "c42190f9-0338-40f5-9312-0e5d1b8ab668"
      },
      "execution_count": 28,
      "outputs": [
        {
          "output_type": "stream",
          "name": "stdout",
          "text": [
            "low: 241\n",
            "medium: 2415\n",
            "high: 4611\n",
            "very high: 527\n"
          ]
        }
      ]
    },
    {
      "cell_type": "markdown",
      "source": [
        "## Defining templates\n",
        "\n",
        "### Few-shot learning\n",
        "Testing how models do on the task with demonstrations."
      ],
      "metadata": {
        "id": "JcN630LpOWaI"
      }
    },
    {
      "cell_type": "code",
      "source": [
        "Input = dsp.Type(\n",
        "    prefix=\"Statement:\", \n",
        "    desc=\"${a short statement about climate.}\")\n",
        "\n",
        "Label = dsp.Type(\n",
        "    prefix=\"Confidence: \", \n",
        "    desc=\"${must be *only*: 'low', 'medium', 'high', 'very high'}\")\n",
        "\n",
        "few_shot_template = dsp.Template(\n",
        "    instructions=\"You are a knowledgeable climate science assistant trained to assess the confidence level associated with various statements about climate change. \\\n",
        "      \\n\\nYou will be presented with a statement about climate science, climate impacts or climate change mitigation which is retrieved or paraphrased from the IPCC AR6 WGI, WGII or WGIII assessment reports. Climate scientists have evaluated that statement as low confidence, medium confidence, high confidence, or very high confidence, based on evidence (type, amount, quantity, consistency) and agreement among their peers. What is their confidence level?  \\\n",
        "      \\n\\nRespond *only* with one of the following words: 'low', 'medium', 'high', 'very high'. If you don't know, you can respond 'I don't know'.\",\n",
        "    input=Input(),\n",
        "    label=Label())"
      ],
      "metadata": {
        "id": "8oiVbQ94OYYd"
      },
      "execution_count": 15,
      "outputs": []
    },
    {
      "cell_type": "markdown",
      "source": [
        "Example:"
      ],
      "metadata": {
        "id": "wORGK6fTZsjC"
      }
    },
    {
      "cell_type": "code",
      "source": [
        "ex = dsp.Example(\n",
        "    input=ipcc_sent[0]['input'], label=ipcc_sent[0]['label'])\n",
        "\n",
        "ex.demos=dsp.sample(ipcc_train, 3)\n",
        "\n",
        "print(few_shot_template(ex))"
      ],
      "metadata": {
        "id": "WqQ75vTGZt03"
      },
      "execution_count": null,
      "outputs": []
    },
    {
      "cell_type": "markdown",
      "source": [
        "## Defining the task\n",
        "\n",
        "With zero shot we simply provide instructions and provide a format template, with no training demonstrations."
      ],
      "metadata": {
        "id": "ONZfaTzxZja0"
      }
    },
    {
      "cell_type": "code",
      "source": [
        "import random\n",
        "\n",
        "@dsp.transformation\n",
        "def assess_certainty_with_demonstrations(example, temperature=0): \n",
        "    \n",
        "    # Sample demonstrations in train set for each confidence level\n",
        "    example.demos = []\n",
        "    for confidence in ['low', 'medium', 'high', 'very high']:\n",
        "        demo = random.choice(train_ex[confidence])\n",
        "        example.demos.append(demo)\n",
        "\n",
        "    # Call LLM\n",
        "    example, completion = dsp.generate(few_shot_template,  temperature=temperature)(example, stage='few-shot')\n",
        "\n",
        "    return completion\n",
        "\n",
        "def extract_confidence(text):\n",
        "    if re.search(r\"low\", text, re.IGNORECASE):\n",
        "        return \"low\"\n",
        "    elif re.search(r\"medium\", text, re.IGNORECASE):\n",
        "        return \"medium\"\n",
        "    elif re.search(r\"very high\", text, re.IGNORECASE):\n",
        "        return \"very high\"\n",
        "    elif re.search(r\"high\", text, re.IGNORECASE):\n",
        "        return \"high\"\n",
        "    elif re.search(r\"i don't know\", text, re.IGNORECASE):\n",
        "        return \"idk\"\n",
        "    else:\n",
        "        return \"N/A\""
      ],
      "metadata": {
        "id": "I7VWLcOdPmXK"
      },
      "execution_count": 62,
      "outputs": []
    },
    {
      "cell_type": "markdown",
      "source": [
        "Testing our task on the first sentence of the dataset: gpt3.5-turbo gets this first task right!"
      ],
      "metadata": {
        "id": "VW71OwRIeqgT"
      }
    },
    {
      "cell_type": "code",
      "source": [
        "print(ex)\n",
        "assess_certainty_with_demonstrations(ex).label"
      ],
      "metadata": {
        "colab": {
          "base_uri": "https://localhost:8080/",
          "height": 73
        },
        "id": "uM3jPoEEeX9_",
        "outputId": "8d7089de-4fb1-46c0-a709-deb6ab5bec95"
      },
      "execution_count": 63,
      "outputs": [
        {
          "output_type": "stream",
          "name": "stdout",
          "text": [
            "{'input': 'Since 1750, increases in CO2 (47%) and CH4 (156%) concentrations far exceed – and increases in N2O (23%) are similar to – the natural multi-millennial changes between glacial and interglacial periods over at least the past 800,000 years', 'label': 'very high', 'demos': [[{'input': 'However, productivity may increase less than predicted and eventually even decrease once nutrient limitation outweighs the benefits of higher light availability', 'label': 'low', 'score': 0, 'report': 'AR6_WGII'}], [{'input': 'Mitigation has implications for employment through multiple channels, each of which impacts geographies, sectors and skill categories differently', 'label': 'medium', 'score': 1, 'report': 'AR6_WGIII'}], [{'input': 'Limiting warming to likely 2°C (>67%) or lower can result in large-scale transformation of the land surface', 'label': 'high', 'score': 2, 'report': 'AR6_WGIII'}], [{'input': 'Arctic sea ice younger, thinner and faster moving', 'label': 'very high', 'score': 3, 'report': 'AR6_WGI'}]]}\n"
          ]
        },
        {
          "output_type": "execute_result",
          "data": {
            "text/plain": [
              "'very high'"
            ],
            "application/vnd.google.colaboratory.intrinsic+json": {
              "type": "string"
            }
          },
          "metadata": {},
          "execution_count": 63
        }
      ]
    },
    {
      "cell_type": "code",
      "source": [
        "lm.inspect_history(n=1)"
      ],
      "metadata": {
        "colab": {
          "base_uri": "https://localhost:8080/"
        },
        "id": "LK25jd_jtNQl",
        "outputId": "65f5e1f1-4cce-4642-e127-37bebe78d46b"
      },
      "execution_count": 64,
      "outputs": [
        {
          "output_type": "stream",
          "name": "stdout",
          "text": [
            "\n",
            "\n",
            "\n",
            "\n",
            "You are a knowledgeable climate science assistant trained to assess the confidence level associated with various statements about climate change.       \n",
            "\n",
            "You will be presented with a statement about climate science, climate impacts or climate change mitigation which is retrieved or paraphrased from the IPCC AR6 WGI, WGII or WGIII assessment reports. Climate scientists have evaluated that statement as low confidence, medium confidence, high confidence, or very high confidence, based on evidence (type, amount, quantity, consistency) and agreement among their peers. What is their confidence level?        \n",
            "\n",
            "Respond *only* with one of the following words: 'low', 'medium', 'high', 'very high'. If you don't know, you can respond 'I don't know'.\n",
            "\n",
            "---\n",
            "\n",
            "Follow the following format.\n",
            "\n",
            "Statement: ${a short statement about climate.}\n",
            "Confidence: ${must be *only*: 'low', 'medium', 'high', 'very high'}\n",
            "\n",
            "---\n",
            "\n",
            "Statement: A +7% tropospheric adjustment has been added to the radiative efficiency for N 2O and +12% to CFC-11 and CFC-12\n",
            "Confidence: low\n",
            "\n",
            "Statement: The association between variations in ambient temperature and the occurrence of asthma has been reported in several Asian countries/regions such as Japan (Yamazaki et al., 2015), the Republic of Korea (Kwon et al., 2016), China (Li et al., 2016a) and Hong Kong SAR of China\n",
            "Confidence: medium\n",
            "\n",
            "Statement: Marine ecoregions will experience ocean acidification and temperatures that increase faster in high latitudes\n",
            "Confidence: high\n",
            "\n",
            "Statement: In summary, the AIS has lost mass between 1992 and 2020\n",
            "Confidence: very high\n",
            "\n",
            "Statement: Since 1750, increases in CO2 (47%) and CH4 (156%) concentrations far exceed – and increases in N2O (23%) are similar to – the natural multi-millennial changes between glacial and interglacial periods over at least the past 800,000 years\n",
            "Confidence:\u001b[32mvery high\u001b[0m\n",
            "\n",
            "\n",
            "\n"
          ]
        }
      ]
    },
    {
      "cell_type": "markdown",
      "source": [
        "# First experiment\n",
        "\n",
        "We assess the certainty level of the LM on the dataset, filter the output for extra \"confidence\" etc., then compare with ground truth."
      ],
      "metadata": {
        "id": "JPfSCzP2fAkL"
      }
    },
    {
      "cell_type": "code",
      "source": [
        "samples = test_set.copy()  # Dev: train_set.sample(n=100, random_state=12).copy() | Experiment: test_set.copy()\n",
        "\n",
        "samples.head"
      ],
      "metadata": {
        "id": "rB8fieaReqPg",
        "colab": {
          "base_uri": "https://localhost:8080/"
        },
        "outputId": "dd56f609-78b3-42c7-9d78-fae1304352ee"
      },
      "execution_count": 65,
      "outputs": [
        {
          "output_type": "execute_result",
          "data": {
            "text/plain": [
              "<bound method NDFrame.head of       statement_idx     report  page_num  sent_num  \\\n",
              "3                 3    AR6_WGI        24         2   \n",
              "42               42    AR6_WGI        37        16   \n",
              "77               77    AR6_WGI        47         7   \n",
              "81               81    AR6_WGI        62         2   \n",
              "86               86    AR6_WGI        63         8   \n",
              "...             ...        ...       ...       ...   \n",
              "8024           8024  AR6_WGIII      1827        13   \n",
              "8056           8056  AR6_WGIII      2011         5   \n",
              "8067           8067  AR6_WGIII      2012         8   \n",
              "8086           8086  AR6_WGIII      2016         8   \n",
              "8093           8093  AR6_WGIII      2058        21   \n",
              "\n",
              "                                              statement confidence  score  \\\n",
              "3     Since 1750, increases in CO2 (47%) and CH4 (15...  very high      3   \n",
              "42    Over the next 2000 years, global mean sea leve...        low      0   \n",
              "77    By the end of the century, scenarios with very...       high      2   \n",
              "81    Over the past millennium, and especially since...     medium      1   \n",
              "86    The paleo context supports the assessment that...       high      2   \n",
              "...                                                 ...        ...    ...   \n",
              "8024  REDD+ can significantly contribute to climate ...       high      2   \n",
              "8056  Large-scale bioenergy projects with CCS may be...     medium      1   \n",
              "8067  Reforestation and forest restoration can have ...     medium      1   \n",
              "8086  BEVs could create jobs associated with the EV ...        low      0   \n",
              "8093  For pathways that limit warming to 2°C (>67%) ...       high      2   \n",
              "\n",
              "     split  \n",
              "3     test  \n",
              "42    test  \n",
              "77    test  \n",
              "81    test  \n",
              "86    test  \n",
              "...    ...  \n",
              "8024  test  \n",
              "8056  test  \n",
              "8067  test  \n",
              "8086  test  \n",
              "8093  test  \n",
              "\n",
              "[300 rows x 8 columns]>"
            ]
          },
          "metadata": {},
          "execution_count": 65
        }
      ]
    },
    {
      "cell_type": "code",
      "source": [
        "samples['prediction'] = samples.statement.apply(\n",
        "    lambda x: extract_confidence(assess_certainty_with_demonstrations(dsp.Example(input=x, demos=dsp.sample(ipcc_train, 0)), temperature=0).label.lower()))"
      ],
      "metadata": {
        "id": "OD0cALUafsUo",
        "colab": {
          "base_uri": "https://localhost:8080/"
        },
        "outputId": "fe1b4132-8822-4e24-9a32-21155d7e6796"
      },
      "execution_count": null,
      "outputs": [
        {
          "output_type": "stream",
          "name": "stderr",
          "text": [
            "INFO:backoff:Backing off request(...) for 0.3s (openai.error.RateLimitError: That model is currently overloaded with other requests. You can retry your request, or contact us through our help center at help.openai.com if the error persists. (Please include the request ID a9ceaef7bb23e2dfa904e8c880e82078 in your message.))\n"
          ]
        },
        {
          "output_type": "stream",
          "name": "stdout",
          "text": [
            "Backing off 0.3 seconds after 1 tries calling function <function GPT3.request at 0x7fa402be7400> with kwargs {'temperature': 0}\n"
          ]
        }
      ]
    },
    {
      "cell_type": "code",
      "source": [
        "lm.inspect_history(n=1)"
      ],
      "metadata": {
        "id": "DBrd-4WAtCWQ"
      },
      "execution_count": null,
      "outputs": []
    },
    {
      "cell_type": "code",
      "source": [
        "samples['correct'] = samples.apply(\n",
        "    lambda row: (row['confidence'] == row['prediction']), axis=1)\n",
        "\n",
        "print(f\"Accuracy: {samples['correct'].sum() / (samples.shape[0]-len(samples[samples['prediction'] == 'idk'])):.3f}\")\n",
        "print(f\"'I don't know': {len(samples[samples['prediction'] == 'idk'])}\")\n",
        "print(f\"N/A: {len(samples[samples['prediction'] == 'N/A'])}\")"
      ],
      "metadata": {
        "id": "shRBi3TugMX9"
      },
      "execution_count": null,
      "outputs": []
    },
    {
      "cell_type": "code",
      "source": [
        "samples.loc[samples['confidence'] == 'low'].head"
      ],
      "metadata": {
        "id": "F9TR380Bgk_S"
      },
      "execution_count": null,
      "outputs": []
    },
    {
      "cell_type": "markdown",
      "source": [
        "## Saving experiment results\n",
        "\n",
        "Make sure to save the results for future analysis if needed."
      ],
      "metadata": {
        "id": "Bn-aDj9EB25L"
      }
    },
    {
      "cell_type": "code",
      "source": [
        "samples.to_csv('gpt4-demos-temp0-2023-06-09.csv', index=False)"
      ],
      "metadata": {
        "id": "ltYVolc1H_rh"
      },
      "execution_count": 46,
      "outputs": []
    },
    {
      "cell_type": "markdown",
      "source": [
        "Alternatively, re-load a previous experiment."
      ],
      "metadata": {
        "id": "Z3NB-BQw0A5R"
      }
    },
    {
      "cell_type": "code",
      "source": [
        "samples = pd.read_csv('/content/gpt4-zeroshot-temp0-202306090044.csv', sep=',', skiprows=0)"
      ],
      "metadata": {
        "id": "Nfj-8jAL0Bkz"
      },
      "execution_count": null,
      "outputs": []
    },
    {
      "cell_type": "markdown",
      "source": [
        "## Precision, recall, and F1 score"
      ],
      "metadata": {
        "id": "1N1C-Gy2kcce"
      }
    },
    {
      "cell_type": "code",
      "source": [
        "from sklearn.metrics import f1_score, precision_score, recall_score, accuracy_score, classification_report\n",
        "\n",
        "true_labels = samples.loc[(samples['prediction'] != 'N/A') & (samples['prediction'] != 'idk'), 'confidence']\n",
        "predicted_labels = samples.loc[(samples['prediction'] != 'N/A') & (samples['prediction'] != 'idk'), 'prediction']\n",
        "\n",
        "# Compute macro F1 score\n",
        "f1 = f1_score(true_labels, predicted_labels, average='macro')\n",
        "print(\"Macro F1 score:\", f1)\n",
        "\n",
        "# Compute weighted F1 score\n",
        "f1 = f1_score(true_labels, predicted_labels, average='weighted')\n",
        "print(\"Weighted F1 score:\", f1)\n",
        "\n",
        "# Compute precision for each class\n",
        "precision = precision_score(true_labels, predicted_labels, average=None)\n",
        "\n",
        "# Compute recall for each class\n",
        "recall = recall_score(true_labels, predicted_labels, average=None)\n",
        "\n",
        "# Compute F1 score for each class\n",
        "f1 = f1_score(true_labels, predicted_labels, average=None)\n",
        "\n",
        "# Create a dataframe to store precision and recall for each class\n",
        "class_metrics_df = pd.DataFrame({'Precision': precision, 'Recall': recall, 'F1': f1})\n",
        "\n",
        "# Add labels to the class metrics dataframe\n",
        "class_metrics_df['Class'] = true_labels.unique().astype(str)\n",
        "\n",
        "# Sort the dataframe by class index or name\n",
        "class_metrics_df = class_metrics_df.sort_values('Class', key=lambda x: pd.Categorical(x, categories=[\"low\", \"medium\", \"high\", \"very high\"]))\n",
        "\n",
        "# Print class metrics dataframe\n",
        "#print(class_metrics_df)\n",
        "\n",
        "# Compute accuracy for the whole system\n",
        "accuracy = accuracy_score(true_labels, predicted_labels)\n",
        "\n",
        "# Compute accuracy by class\n",
        "\n",
        "print(\"Accuracy (total):\", accuracy)\n",
        "\n",
        "report = classification_report(true_labels, predicted_labels, digits=4)\n",
        "print(report)\n",
        "\n",
        "# Count classes\n",
        "category_counts = true_labels.value_counts()\n",
        "print(category_counts)\n",
        "\n"
      ],
      "metadata": {
        "colab": {
          "base_uri": "https://localhost:8080/"
        },
        "id": "-j5UOZ21kekr",
        "outputId": "39a9f26b-a723-4cc5-e91c-9002feca2471"
      },
      "execution_count": 47,
      "outputs": [
        {
          "output_type": "stream",
          "name": "stdout",
          "text": [
            "Macro F1 score: 0.3499719718353778\n",
            "Weighted F1 score: 0.4058510473497546\n",
            "Accuracy (total): 0.4429530201342282\n",
            "              precision    recall  f1-score   support\n",
            "\n",
            "        high     0.5253    0.5253    0.5253        99\n",
            "         low     0.3889    0.1400    0.2059        50\n",
            "      medium     0.4048    0.6800    0.5075       100\n",
            "   very high     0.3846    0.1020    0.1613        49\n",
            "\n",
            "    accuracy                         0.4430       298\n",
            "   macro avg     0.4259    0.3618    0.3500       298\n",
            "weighted avg     0.4388    0.4430    0.4059       298\n",
            "\n",
            "medium       100\n",
            "high          99\n",
            "low           50\n",
            "very high     49\n",
            "Name: confidence, dtype: int64\n"
          ]
        }
      ]
    },
    {
      "cell_type": "markdown",
      "source": [
        "## Over/under confidence assessment"
      ],
      "metadata": {
        "id": "ZZN3I0fxoRTc"
      }
    },
    {
      "cell_type": "code",
      "source": [
        "# Filter samples\n",
        "fs = samples.loc[(samples['prediction'] != 'N/A') & (samples['prediction'] != 'idk')] \n",
        "\n",
        "# Compute a certainty score\n",
        "value_map = {'low': 0, 'medium': 1, 'high': 2, 'very high': 3}\n",
        "\n",
        "fs['predicted_score'] = fs.prediction.apply(\n",
        "    lambda x: value_map[x])\n",
        "\n",
        "# Break down scores\n",
        "scores_all = {\n",
        "    \"low\": fs.loc[fs['score'] == 0, 'predicted_score'].mean(),\n",
        "    \"medium\": fs.loc[fs['score'] == 1, 'predicted_score'].mean(),\n",
        "    \"high\": fs.loc[fs['score'] == 2, 'predicted_score'].mean(),\n",
        "    \"very high\": fs.loc[fs['score'] == 3, 'predicted_score'].mean()\n",
        "}\n",
        "\n",
        "scores_wg1 = {\n",
        "    \"low\": fs.loc[(fs['score'] == 0) & (fs['report'] == 'AR6_WGI'), 'predicted_score'].mean(),\n",
        "    \"medium\": fs.loc[(fs['score'] == 1) & (fs['report'] == 'AR6_WGI'), 'predicted_score'].mean(),\n",
        "    \"high\": fs.loc[(fs['score'] == 2) & (fs['report'] == 'AR6_WGI'), 'predicted_score'].mean(),\n",
        "    \"very high\": fs.loc[(fs['score'] == 3) & (fs['report'] == 'AR6_WGI'), 'predicted_score'].mean()\n",
        "}\n",
        "\n",
        "scores_wg23 = {\n",
        "    \"low\": fs.loc[(fs['score'] == 0) & (fs['report'] != 'AR6_WGI'), 'predicted_score'].mean(),\n",
        "    \"medium\": fs.loc[(fs['score'] == 1) & (fs['report'] != 'AR6_WGI'), 'predicted_score'].mean(),\n",
        "    \"high\": fs.loc[(fs['score'] == 2) & (fs['report'] != 'AR6_WGI'), 'predicted_score'].mean(),\n",
        "    \"very high\": fs.loc[(fs['score'] == 3) & (fs['report'] != 'AR6_WGI'), 'predicted_score'].mean()\n",
        "}\n",
        "\n",
        "print(\"=== All AR6 reports===\")\n",
        "print(f\"Average ground truth score: {samples['score'].mean()}\")\n",
        "print(f\"Average predicted score: {fs['predicted_score'].mean()}\")\n",
        "print(f\"Average scores per category: {scores_all}\\n\")\n",
        "\n",
        "print(\"=== AR6 WGI report ===\")\n",
        "print(f\"Average ground truth score: {samples.loc[samples['report'] == 'AR6_WGI', 'score'].mean()}\")\n",
        "print(f\"Average predicted score: {fs.loc[fs['report'] == 'AR6_WGI', 'predicted_score'].mean()}\")\n",
        "print(f\"Average scores per category: {scores_wg1}\\n\")\n",
        "\n",
        "print(\"=== AR6 WGII/III reports ===\")\n",
        "print(f\"Average ground truth score: {samples.loc[samples['report'] != 'AR6_WGI', 'score'].mean()}\")\n",
        "print(f\"Average predicted score: {fs.loc[fs['report'] != 'AR6_WGI', 'predicted_score'].mean()}\")\n",
        "print(f\"Average scores per category: {scores_wg23}\\n\")"
      ],
      "metadata": {
        "colab": {
          "base_uri": "https://localhost:8080/"
        },
        "id": "s1B3CwhEk87v",
        "outputId": "c115d600-85ab-4970-a939-ab1f105cf84b"
      },
      "execution_count": 50,
      "outputs": [
        {
          "output_type": "stream",
          "name": "stdout",
          "text": [
            "=== All AR6 reports===\n",
            "Average ground truth score: 1.5\n",
            "Average predicted score: 1.3590604026845639\n",
            "Average scores per category: {'low': 1.0, 'medium': 1.15, 'high': 1.6464646464646464, 'very high': 1.5714285714285714}\n",
            "\n",
            "=== AR6 WGI report ===\n",
            "Average ground truth score: 1.3157894736842106\n",
            "Average predicted score: 1.5052631578947369\n",
            "Average scores per category: {'low': 1.1, 'medium': 1.2857142857142858, 'high': 1.8333333333333333, 'very high': 2.1}\n",
            "\n",
            "=== AR6 WGII/III reports ===\n",
            "Average ground truth score: 1.5853658536585367\n",
            "Average predicted score: 1.29064039408867\n",
            "Average scores per category: {'low': 0.9333333333333333, 'medium': 1.0769230769230769, 'high': 1.565217391304348, 'very high': 1.435897435897436}\n",
            "\n"
          ]
        },
        {
          "output_type": "stream",
          "name": "stderr",
          "text": [
            "<ipython-input-50-df8ee8564d79>:7: SettingWithCopyWarning: \n",
            "A value is trying to be set on a copy of a slice from a DataFrame.\n",
            "Try using .loc[row_indexer,col_indexer] = value instead\n",
            "\n",
            "See the caveats in the documentation: https://pandas.pydata.org/pandas-docs/stable/user_guide/indexing.html#returning-a-view-versus-a-copy\n",
            "  fs['predicted_score'] = fs.prediction.apply(\n"
          ]
        }
      ]
    },
    {
      "cell_type": "code",
      "source": [
        "import seaborn as sns\n",
        "import matplotlib.pyplot as plt\n",
        "import numpy as np\n",
        "\n",
        "# Define the data\n",
        "\n",
        "# Extract labels and values from the data dictionary\n",
        "labels = list(scores_all.keys())\n",
        "values_all = list(scores_all.values())\n",
        "values_wg1 = list(scores_wg1.values())\n",
        "values_wg23 = list(scores_wg23.values())\n",
        "\n",
        "# Define the custom labels for the x-axis\n",
        "x_labels = ['0 (Low)', '1 (Medium)', '2 (High)', '3 (Very high)']\n",
        "\n",
        "# Create the line plot with labeled curve\n",
        "sns.lineplot(x=labels, y=values_all, label='Average prediction')\n",
        "sns.lineplot(x=labels, y=values_wg1, linestyle='--', color=\"steelblue\", label='WG1 report')\n",
        "sns.lineplot(x=labels, y=values_wg23, linestyle='dotted', color=\"steelblue\", label='WG2 & WG3 report')\n",
        "\n",
        "\n",
        "# Add the ground truth line (y = x)\n",
        "x = np.arange(len(labels))\n",
        "plt.plot(x, x, linestyle='--', color='red', label='Ground truth')\n",
        "\n",
        "# Customize the x-axis tick labels\n",
        "plt.xticks(labels, x_labels)\n",
        "\n",
        "# Set the y-axis limits\n",
        "plt.ylim(0, 3)\n",
        "\n",
        "# Set the title and labels\n",
        "plt.title(\"Average predicted certainty level per class\")\n",
        "plt.xlabel(\"Label\")\n",
        "plt.ylabel(\"Value\")\n",
        "\n",
        "# Show the legend\n",
        "plt.legend()\n",
        "\n",
        "# Show the plot\n",
        "plt.show()"
      ],
      "metadata": {
        "colab": {
          "base_uri": "https://localhost:8080/",
          "height": 472
        },
        "id": "itj9eDZhBvns",
        "outputId": "f525e630-bf14-4c8e-aad2-8a42c90c6359"
      },
      "execution_count": 51,
      "outputs": [
        {
          "output_type": "display_data",
          "data": {
            "text/plain": [
              "<Figure size 640x480 with 1 Axes>"
            ],
            "image/png": "[encoded data removed]"
          },
          "metadata": {}
        }
      ]
    }
  ]
}