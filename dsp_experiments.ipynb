{
  "nbformat": 4,
  "nbformat_minor": 0,
  "metadata": {
    "colab": {
      "provenance": []
    },
    "kernelspec": {
      "name": "python3",
      "display_name": "Python 3"
    },
    "language_info": {
      "name": "python"
    }
  },
  "cells": [
    {
      "cell_type": "markdown",
      "source": [
        "# DSP experiments\n",
        "\n",
        "This notebook contains DSP experiments to assess the accuracy of confidence level classification of climate statements by various LLMs."
      ],
      "metadata": {
        "id": "5Yr_qsY-IVDh"
      }
    },
    {
      "cell_type": "code",
      "execution_count": 1,
      "metadata": {
        "colab": {
          "base_uri": "https://localhost:8080/"
        },
        "id": "McPATs55HhCb",
        "outputId": "b5ee2355-7d4d-4310-c10e-5c643f87bac2"
      },
      "outputs": [
        {
          "output_type": "stream",
          "name": "stdout",
          "text": [
            "Cloning into 'cs224u'...\n",
            "remote: Enumerating objects: 2223, done.\u001b[K\n",
            "remote: Counting objects: 100% (131/131), done.\u001b[K\n",
            "remote: Compressing objects: 100% (82/82), done.\u001b[K\n",
            "remote: Total 2223 (delta 59), reused 89 (delta 49), pack-reused 2092\u001b[K\n",
            "Receiving objects: 100% (2223/2223), 41.49 MiB | 27.01 MiB/s, done.\n",
            "Resolving deltas: 100% (1358/1358), done.\n",
            "Looking in indexes: https://pypi.org/simple, https://us-python.pkg.dev/colab-wheels/public/simple/\n",
            "Collecting git+https://github.com/stanfordnlp/dsp (from -r cs224u/requirements.txt (line 15))\n",
            "  Cloning https://github.com/stanfordnlp/dsp to /tmp/pip-req-build-t6vr9ze0\n",
            "  Running command git clone --filter=blob:none --quiet https://github.com/stanfordnlp/dsp /tmp/pip-req-build-t6vr9ze0\n",
            "  Resolved https://github.com/stanfordnlp/dsp to commit 298fac8937fdf7326d1b85546ecd41f099ed33e2\n",
            "  Preparing metadata (setup.py) ... \u001b[?25l\u001b[?25hdone\n",
            "Requirement already satisfied: numpy>=1.20.0 in /usr/local/lib/python3.10/dist-packages (from -r cs224u/requirements.txt (line 1)) (1.22.4)\n",
            "Requirement already satisfied: scipy>=1.7.0 in /usr/local/lib/python3.10/dist-packages (from -r cs224u/requirements.txt (line 2)) (1.10.1)\n",
            "Requirement already satisfied: matplotlib>=3.7.0 in /usr/local/lib/python3.10/dist-packages (from -r cs224u/requirements.txt (line 3)) (3.7.1)\n",
            "Requirement already satisfied: scikit-learn>=1.0.2 in /usr/local/lib/python3.10/dist-packages (from -r cs224u/requirements.txt (line 4)) (1.2.2)\n",
            "Requirement already satisfied: nltk>=3.7 in /usr/local/lib/python3.10/dist-packages (from -r cs224u/requirements.txt (line 5)) (3.8.1)\n",
            "Requirement already satisfied: pytest>=7.1 in /usr/local/lib/python3.10/dist-packages (from -r cs224u/requirements.txt (line 6)) (7.2.2)\n",
            "Collecting jupyter>=1.0.0 (from -r cs224u/requirements.txt (line 7))\n",
            "  Downloading jupyter-1.0.0-py2.py3-none-any.whl (2.7 kB)\n",
            "Requirement already satisfied: pandas>=1.5 in /usr/local/lib/python3.10/dist-packages (from -r cs224u/requirements.txt (line 8)) (1.5.3)\n",
            "Collecting torch==1.13.1 (from -r cs224u/requirements.txt (line 9))\n",
            "  Downloading torch-1.13.1-cp310-cp310-manylinux1_x86_64.whl (887.5 MB)\n",
            "\u001b[2K     \u001b[90m━━━━━━━━━━━━━━━━━━━━━━━━━━━━━━━━━━━━━\u001b[0m \u001b[32m887.5/887.5 MB\u001b[0m \u001b[31m739.6 kB/s\u001b[0m eta \u001b[36m0:00:00\u001b[0m\n",
            "\u001b[?25hCollecting torchvision==0.14.1 (from -r cs224u/requirements.txt (line 10))\n",
            "  Downloading torchvision-0.14.1-cp310-cp310-manylinux1_x86_64.whl (24.2 MB)\n",
            "\u001b[2K     \u001b[90m━━━━━━━━━━━━━━━━━━━━━━━━━━━━━━━━━━━━━━━━\u001b[0m \u001b[32m24.2/24.2 MB\u001b[0m \u001b[31m48.0 MB/s\u001b[0m eta \u001b[36m0:00:00\u001b[0m\n",
            "\u001b[?25hCollecting transformers==4.26.1 (from -r cs224u/requirements.txt (line 11))\n",
            "  Downloading transformers-4.26.1-py3-none-any.whl (6.3 MB)\n",
            "\u001b[2K     \u001b[90m━━━━━━━━━━━━━━━━━━━━━━━━━━━━━━━━━━━━━━━━\u001b[0m \u001b[32m6.3/6.3 MB\u001b[0m \u001b[31m69.9 MB/s\u001b[0m eta \u001b[36m0:00:00\u001b[0m\n",
            "\u001b[?25hCollecting datasets==2.10.1 (from -r cs224u/requirements.txt (line 12))\n",
            "  Downloading datasets-2.10.1-py3-none-any.whl (469 kB)\n",
            "\u001b[2K     \u001b[90m━━━━━━━━━━━━━━━━━━━━━━━━━━━━━━━━━━━━━━\u001b[0m \u001b[32m469.0/469.0 kB\u001b[0m \u001b[31m42.5 MB/s\u001b[0m eta \u001b[36m0:00:00\u001b[0m\n",
            "\u001b[?25hCollecting spacy==3.5.1 (from -r cs224u/requirements.txt (line 13))\n",
            "  Downloading spacy-3.5.1-cp310-cp310-manylinux_2_17_x86_64.manylinux2014_x86_64.whl (6.6 MB)\n",
            "\u001b[2K     \u001b[90m━━━━━━━━━━━━━━━━━━━━━━━━━━━━━━━━━━━━━━━━\u001b[0m \u001b[32m6.6/6.6 MB\u001b[0m \u001b[31m100.4 MB/s\u001b[0m eta \u001b[36m0:00:00\u001b[0m\n",
            "\u001b[?25hCollecting cohere (from -r cs224u/requirements.txt (line 16))\n",
            "  Downloading cohere-4.9.0-py3-none-any.whl (38 kB)\n",
            "Collecting openai (from -r cs224u/requirements.txt (line 17))\n",
            "  Downloading openai-0.27.8-py3-none-any.whl (73 kB)\n",
            "\u001b[2K     \u001b[90m━━━━━━━━━━━━━━━━━━━━━━━━━━━━━━━━━━━━━━━━\u001b[0m \u001b[32m73.6/73.6 kB\u001b[0m \u001b[31m10.1 MB/s\u001b[0m eta \u001b[36m0:00:00\u001b[0m\n",
            "\u001b[?25hRequirement already satisfied: typing-extensions in /usr/local/lib/python3.10/dist-packages (from torch==1.13.1->-r cs224u/requirements.txt (line 9)) (4.5.0)\n",
            "Collecting nvidia-cuda-runtime-cu11==11.7.99 (from torch==1.13.1->-r cs224u/requirements.txt (line 9))\n",
            "  Downloading nvidia_cuda_runtime_cu11-11.7.99-py3-none-manylinux1_x86_64.whl (849 kB)\n",
            "\u001b[2K     \u001b[90m━━━━━━━━━━━━━━━━━━━━━━━━━━━━━━━━━━━━━━\u001b[0m \u001b[32m849.3/849.3 kB\u001b[0m \u001b[31m68.1 MB/s\u001b[0m eta \u001b[36m0:00:00\u001b[0m\n",
            "\u001b[?25hCollecting nvidia-cudnn-cu11==8.5.0.96 (from torch==1.13.1->-r cs224u/requirements.txt (line 9))\n",
            "  Downloading nvidia_cudnn_cu11-8.5.0.96-2-py3-none-manylinux1_x86_64.whl (557.1 MB)\n",
            "\u001b[2K     \u001b[90m━━━━━━━━━━━━━━━━━━━━━━━━━━━━━━━━━━━━━━━\u001b[0m \u001b[32m557.1/557.1 MB\u001b[0m \u001b[31m3.0 MB/s\u001b[0m eta \u001b[36m0:00:00\u001b[0m\n",
            "\u001b[?25hCollecting nvidia-cublas-cu11==11.10.3.66 (from torch==1.13.1->-r cs224u/requirements.txt (line 9))\n",
            "  Downloading nvidia_cublas_cu11-11.10.3.66-py3-none-manylinux1_x86_64.whl (317.1 MB)\n",
            "\u001b[2K     \u001b[90m━━━━━━━━━━━━━━━━━━━━━━━━━━━━━━━━━━━━━━━\u001b[0m \u001b[32m317.1/317.1 MB\u001b[0m \u001b[31m2.4 MB/s\u001b[0m eta \u001b[36m0:00:00\u001b[0m\n",
            "\u001b[?25hCollecting nvidia-cuda-nvrtc-cu11==11.7.99 (from torch==1.13.1->-r cs224u/requirements.txt (line 9))\n",
            "  Downloading nvidia_cuda_nvrtc_cu11-11.7.99-2-py3-none-manylinux1_x86_64.whl (21.0 MB)\n",
            "\u001b[2K     \u001b[90m━━━━━━━━━━━━━━━━━━━━━━━━━━━━━━━━━━━━━━━━\u001b[0m \u001b[32m21.0/21.0 MB\u001b[0m \u001b[31m61.5 MB/s\u001b[0m eta \u001b[36m0:00:00\u001b[0m\n",
            "\u001b[?25hRequirement already satisfied: requests in /usr/local/lib/python3.10/dist-packages (from torchvision==0.14.1->-r cs224u/requirements.txt (line 10)) (2.27.1)\n",
            "Requirement already satisfied: pillow!=8.3.*,>=5.3.0 in /usr/local/lib/python3.10/dist-packages (from torchvision==0.14.1->-r cs224u/requirements.txt (line 10)) (8.4.0)\n",
            "Requirement already satisfied: filelock in /usr/local/lib/python3.10/dist-packages (from transformers==4.26.1->-r cs224u/requirements.txt (line 11)) (3.12.0)\n",
            "Collecting huggingface-hub<1.0,>=0.11.0 (from transformers==4.26.1->-r cs224u/requirements.txt (line 11))\n",
            "  Downloading huggingface_hub-0.15.1-py3-none-any.whl (236 kB)\n",
            "\u001b[2K     \u001b[90m━━━━━━━━━━━━━━━━━━━━━━━━━━━━━━━━━━━━━━\u001b[0m \u001b[32m236.8/236.8 kB\u001b[0m \u001b[31m26.5 MB/s\u001b[0m eta \u001b[36m0:00:00\u001b[0m\n",
            "\u001b[?25hRequirement already satisfied: packaging>=20.0 in /usr/local/lib/python3.10/dist-packages (from transformers==4.26.1->-r cs224u/requirements.txt (line 11)) (23.1)\n",
            "Requirement already satisfied: pyyaml>=5.1 in /usr/local/lib/python3.10/dist-packages (from transformers==4.26.1->-r cs224u/requirements.txt (line 11)) (6.0)\n",
            "Requirement already satisfied: regex!=2019.12.17 in /usr/local/lib/python3.10/dist-packages (from transformers==4.26.1->-r cs224u/requirements.txt (line 11)) (2022.10.31)\n",
            "Collecting tokenizers!=0.11.3,<0.14,>=0.11.1 (from transformers==4.26.1->-r cs224u/requirements.txt (line 11))\n",
            "  Downloading tokenizers-0.13.3-cp310-cp310-manylinux_2_17_x86_64.manylinux2014_x86_64.whl (7.8 MB)\n",
            "\u001b[2K     \u001b[90m━━━━━━━━━━━━━━━━━━━━━━━━━━━━━━━━━━━━━━━━\u001b[0m \u001b[32m7.8/7.8 MB\u001b[0m \u001b[31m106.3 MB/s\u001b[0m eta \u001b[36m0:00:00\u001b[0m\n",
            "\u001b[?25hRequirement already satisfied: tqdm>=4.27 in /usr/local/lib/python3.10/dist-packages (from transformers==4.26.1->-r cs224u/requirements.txt (line 11)) (4.65.0)\n",
            "Requirement already satisfied: pyarrow>=6.0.0 in /usr/local/lib/python3.10/dist-packages (from datasets==2.10.1->-r cs224u/requirements.txt (line 12)) (9.0.0)\n",
            "Collecting dill<0.3.7,>=0.3.0 (from datasets==2.10.1->-r cs224u/requirements.txt (line 12))\n",
            "  Downloading dill-0.3.6-py3-none-any.whl (110 kB)\n",
            "\u001b[2K     \u001b[90m━━━━━━━━━━━━━━━━━━━━━━━━━━━━━━━━━━━━━━\u001b[0m \u001b[32m110.5/110.5 kB\u001b[0m \u001b[31m15.8 MB/s\u001b[0m eta \u001b[36m0:00:00\u001b[0m\n",
            "\u001b[?25hCollecting xxhash (from datasets==2.10.1->-r cs224u/requirements.txt (line 12))\n",
            "  Downloading xxhash-3.2.0-cp310-cp310-manylinux_2_17_x86_64.manylinux2014_x86_64.whl (212 kB)\n",
            "\u001b[2K     \u001b[90m━━━━━━━━━━━━━━━━━━━━━━━━━━━━━━━━━━━━━━\u001b[0m \u001b[32m212.5/212.5 kB\u001b[0m \u001b[31m26.7 MB/s\u001b[0m eta \u001b[36m0:00:00\u001b[0m\n",
            "\u001b[?25hCollecting multiprocess (from datasets==2.10.1->-r cs224u/requirements.txt (line 12))\n",
            "  Downloading multiprocess-0.70.14-py310-none-any.whl (134 kB)\n",
            "\u001b[2K     \u001b[90m━━━━━━━━━━━━━━━━━━━━━━━━━━━━━━━━━━━━━━\u001b[0m \u001b[32m134.3/134.3 kB\u001b[0m \u001b[31m18.8 MB/s\u001b[0m eta \u001b[36m0:00:00\u001b[0m\n",
            "\u001b[?25hRequirement already satisfied: fsspec[http]>=2021.11.1 in /usr/local/lib/python3.10/dist-packages (from datasets==2.10.1->-r cs224u/requirements.txt (line 12)) (2023.4.0)\n",
            "Collecting aiohttp (from datasets==2.10.1->-r cs224u/requirements.txt (line 12))\n",
            "  Downloading aiohttp-3.8.4-cp310-cp310-manylinux_2_17_x86_64.manylinux2014_x86_64.whl (1.0 MB)\n",
            "\u001b[2K     \u001b[90m━━━━━━━━━━━━━━━━━━━━━━━━━━━━━━━━━━━━━━━━\u001b[0m \u001b[32m1.0/1.0 MB\u001b[0m \u001b[31m66.4 MB/s\u001b[0m eta \u001b[36m0:00:00\u001b[0m\n",
            "\u001b[?25hCollecting responses<0.19 (from datasets==2.10.1->-r cs224u/requirements.txt (line 12))\n",
            "  Downloading responses-0.18.0-py3-none-any.whl (38 kB)\n",
            "Requirement already satisfied: spacy-legacy<3.1.0,>=3.0.11 in /usr/local/lib/python3.10/dist-packages (from spacy==3.5.1->-r cs224u/requirements.txt (line 13)) (3.0.12)\n",
            "Requirement already satisfied: spacy-loggers<2.0.0,>=1.0.0 in /usr/local/lib/python3.10/dist-packages (from spacy==3.5.1->-r cs224u/requirements.txt (line 13)) (1.0.4)\n",
            "Requirement already satisfied: murmurhash<1.1.0,>=0.28.0 in /usr/local/lib/python3.10/dist-packages (from spacy==3.5.1->-r cs224u/requirements.txt (line 13)) (1.0.9)\n",
            "Requirement already satisfied: cymem<2.1.0,>=2.0.2 in /usr/local/lib/python3.10/dist-packages (from spacy==3.5.1->-r cs224u/requirements.txt (line 13)) (2.0.7)\n",
            "Requirement already satisfied: preshed<3.1.0,>=3.0.2 in /usr/local/lib/python3.10/dist-packages (from spacy==3.5.1->-r cs224u/requirements.txt (line 13)) (3.0.8)\n",
            "Requirement already satisfied: thinc<8.2.0,>=8.1.8 in /usr/local/lib/python3.10/dist-packages (from spacy==3.5.1->-r cs224u/requirements.txt (line 13)) (8.1.9)\n",
            "Requirement already satisfied: wasabi<1.2.0,>=0.9.1 in /usr/local/lib/python3.10/dist-packages (from spacy==3.5.1->-r cs224u/requirements.txt (line 13)) (1.1.1)\n",
            "Requirement already satisfied: srsly<3.0.0,>=2.4.3 in /usr/local/lib/python3.10/dist-packages (from spacy==3.5.1->-r cs224u/requirements.txt (line 13)) (2.4.6)\n",
            "Requirement already satisfied: catalogue<2.1.0,>=2.0.6 in /usr/local/lib/python3.10/dist-packages (from spacy==3.5.1->-r cs224u/requirements.txt (line 13)) (2.0.8)\n",
            "Requirement already satisfied: typer<0.8.0,>=0.3.0 in /usr/local/lib/python3.10/dist-packages (from spacy==3.5.1->-r cs224u/requirements.txt (line 13)) (0.7.0)\n",
            "Requirement already satisfied: pathy>=0.10.0 in /usr/local/lib/python3.10/dist-packages (from spacy==3.5.1->-r cs224u/requirements.txt (line 13)) (0.10.1)\n",
            "Requirement already satisfied: smart-open<7.0.0,>=5.2.1 in /usr/local/lib/python3.10/dist-packages (from spacy==3.5.1->-r cs224u/requirements.txt (line 13)) (6.3.0)\n",
            "Requirement already satisfied: pydantic!=1.8,!=1.8.1,<1.11.0,>=1.7.4 in /usr/local/lib/python3.10/dist-packages (from spacy==3.5.1->-r cs224u/requirements.txt (line 13)) (1.10.7)\n",
            "Requirement already satisfied: jinja2 in /usr/local/lib/python3.10/dist-packages (from spacy==3.5.1->-r cs224u/requirements.txt (line 13)) (3.1.2)\n",
            "Requirement already satisfied: setuptools in /usr/local/lib/python3.10/dist-packages (from spacy==3.5.1->-r cs224u/requirements.txt (line 13)) (67.7.2)\n",
            "Requirement already satisfied: langcodes<4.0.0,>=3.2.0 in /usr/local/lib/python3.10/dist-packages (from spacy==3.5.1->-r cs224u/requirements.txt (line 13)) (3.3.0)\n",
            "Requirement already satisfied: wheel in /usr/local/lib/python3.10/dist-packages (from nvidia-cublas-cu11==11.10.3.66->torch==1.13.1->-r cs224u/requirements.txt (line 9)) (0.40.0)\n",
            "Requirement already satisfied: contourpy>=1.0.1 in /usr/local/lib/python3.10/dist-packages (from matplotlib>=3.7.0->-r cs224u/requirements.txt (line 3)) (1.0.7)\n",
            "Requirement already satisfied: cycler>=0.10 in /usr/local/lib/python3.10/dist-packages (from matplotlib>=3.7.0->-r cs224u/requirements.txt (line 3)) (0.11.0)\n",
            "Requirement already satisfied: fonttools>=4.22.0 in /usr/local/lib/python3.10/dist-packages (from matplotlib>=3.7.0->-r cs224u/requirements.txt (line 3)) (4.39.3)\n",
            "Requirement already satisfied: kiwisolver>=1.0.1 in /usr/local/lib/python3.10/dist-packages (from matplotlib>=3.7.0->-r cs224u/requirements.txt (line 3)) (1.4.4)\n",
            "Requirement already satisfied: pyparsing>=2.3.1 in /usr/local/lib/python3.10/dist-packages (from matplotlib>=3.7.0->-r cs224u/requirements.txt (line 3)) (3.0.9)\n",
            "Requirement already satisfied: python-dateutil>=2.7 in /usr/local/lib/python3.10/dist-packages (from matplotlib>=3.7.0->-r cs224u/requirements.txt (line 3)) (2.8.2)\n",
            "Requirement already satisfied: joblib>=1.1.1 in /usr/local/lib/python3.10/dist-packages (from scikit-learn>=1.0.2->-r cs224u/requirements.txt (line 4)) (1.2.0)\n",
            "Requirement already satisfied: threadpoolctl>=2.0.0 in /usr/local/lib/python3.10/dist-packages (from scikit-learn>=1.0.2->-r cs224u/requirements.txt (line 4)) (3.1.0)\n",
            "Requirement already satisfied: click in /usr/local/lib/python3.10/dist-packages (from nltk>=3.7->-r cs224u/requirements.txt (line 5)) (8.1.3)\n",
            "Requirement already satisfied: attrs>=19.2.0 in /usr/local/lib/python3.10/dist-packages (from pytest>=7.1->-r cs224u/requirements.txt (line 6)) (23.1.0)\n",
            "Requirement already satisfied: iniconfig in /usr/local/lib/python3.10/dist-packages (from pytest>=7.1->-r cs224u/requirements.txt (line 6)) (2.0.0)\n",
            "Requirement already satisfied: pluggy<2.0,>=0.12 in /usr/local/lib/python3.10/dist-packages (from pytest>=7.1->-r cs224u/requirements.txt (line 6)) (1.0.0)\n",
            "Requirement already satisfied: exceptiongroup>=1.0.0rc8 in /usr/local/lib/python3.10/dist-packages (from pytest>=7.1->-r cs224u/requirements.txt (line 6)) (1.1.1)\n",
            "Requirement already satisfied: tomli>=1.0.0 in /usr/local/lib/python3.10/dist-packages (from pytest>=7.1->-r cs224u/requirements.txt (line 6)) (2.0.1)\n",
            "Requirement already satisfied: notebook in /usr/local/lib/python3.10/dist-packages (from jupyter>=1.0.0->-r cs224u/requirements.txt (line 7)) (6.4.8)\n",
            "Collecting qtconsole (from jupyter>=1.0.0->-r cs224u/requirements.txt (line 7))\n",
            "  Downloading qtconsole-5.4.3-py3-none-any.whl (121 kB)\n",
            "\u001b[2K     \u001b[90m━━━━━━━━━━━━━━━━━━━━━━━━━━━━━━━━━━━━━━\u001b[0m \u001b[32m121.9/121.9 kB\u001b[0m \u001b[31m16.4 MB/s\u001b[0m eta \u001b[36m0:00:00\u001b[0m\n",
            "\u001b[?25hRequirement already satisfied: jupyter-console in /usr/local/lib/python3.10/dist-packages (from jupyter>=1.0.0->-r cs224u/requirements.txt (line 7)) (6.1.0)\n",
            "Requirement already satisfied: nbconvert in /usr/local/lib/python3.10/dist-packages (from jupyter>=1.0.0->-r cs224u/requirements.txt (line 7)) (6.5.4)\n",
            "Requirement already satisfied: ipykernel in /usr/local/lib/python3.10/dist-packages (from jupyter>=1.0.0->-r cs224u/requirements.txt (line 7)) (5.5.6)\n",
            "Requirement already satisfied: ipywidgets in /usr/local/lib/python3.10/dist-packages (from jupyter>=1.0.0->-r cs224u/requirements.txt (line 7)) (7.7.1)\n",
            "Requirement already satisfied: pytz>=2020.1 in /usr/local/lib/python3.10/dist-packages (from pandas>=1.5->-r cs224u/requirements.txt (line 8)) (2022.7.1)\n",
            "Collecting backoff (from dsp-ml==0.1.5->-r cs224u/requirements.txt (line 15))\n",
            "  Downloading backoff-2.2.1-py3-none-any.whl (15 kB)\n",
            "Collecting ujson (from dsp-ml==0.1.5->-r cs224u/requirements.txt (line 15))\n",
            "  Downloading ujson-5.7.0-cp310-cp310-manylinux_2_17_x86_64.manylinux2014_x86_64.whl (52 kB)\n",
            "\u001b[2K     \u001b[90m━━━━━━━━━━━━━━━━━━━━━━━━━━━━━━━━━━━━━━━━\u001b[0m \u001b[32m52.8/52.8 kB\u001b[0m \u001b[31m6.9 MB/s\u001b[0m eta \u001b[36m0:00:00\u001b[0m\n",
            "\u001b[?25hRequirement already satisfied: charset-normalizer<4.0,>=2.0 in /usr/local/lib/python3.10/dist-packages (from aiohttp->datasets==2.10.1->-r cs224u/requirements.txt (line 12)) (2.0.12)\n",
            "Collecting multidict<7.0,>=4.5 (from aiohttp->datasets==2.10.1->-r cs224u/requirements.txt (line 12))\n",
            "  Downloading multidict-6.0.4-cp310-cp310-manylinux_2_17_x86_64.manylinux2014_x86_64.whl (114 kB)\n",
            "\u001b[2K     \u001b[90m━━━━━━━━━━━━━━━━━━━━━━━━━━━━━━━━━━━━━━\u001b[0m \u001b[32m114.5/114.5 kB\u001b[0m \u001b[31m10.2 MB/s\u001b[0m eta \u001b[36m0:00:00\u001b[0m\n",
            "\u001b[?25hCollecting async-timeout<5.0,>=4.0.0a3 (from aiohttp->datasets==2.10.1->-r cs224u/requirements.txt (line 12))\n",
            "  Downloading async_timeout-4.0.2-py3-none-any.whl (5.8 kB)\n",
            "Collecting yarl<2.0,>=1.0 (from aiohttp->datasets==2.10.1->-r cs224u/requirements.txt (line 12))\n",
            "  Downloading yarl-1.9.2-cp310-cp310-manylinux_2_17_x86_64.manylinux2014_x86_64.whl (268 kB)\n",
            "\u001b[2K     \u001b[90m━━━━━━━━━━━━━━━━━━━━━━━━━━━━━━━━━━━━━━\u001b[0m \u001b[32m268.8/268.8 kB\u001b[0m \u001b[31m32.5 MB/s\u001b[0m eta \u001b[36m0:00:00\u001b[0m\n",
            "\u001b[?25hCollecting frozenlist>=1.1.1 (from aiohttp->datasets==2.10.1->-r cs224u/requirements.txt (line 12))\n",
            "  Downloading frozenlist-1.3.3-cp310-cp310-manylinux_2_5_x86_64.manylinux1_x86_64.manylinux_2_17_x86_64.manylinux2014_x86_64.whl (149 kB)\n",
            "\u001b[2K     \u001b[90m━━━━━━━━━━━━━━━━━━━━━━━━━━━━━━━━━━━━━━\u001b[0m \u001b[32m149.6/149.6 kB\u001b[0m \u001b[31m20.5 MB/s\u001b[0m eta \u001b[36m0:00:00\u001b[0m\n",
            "\u001b[?25hCollecting aiosignal>=1.1.2 (from aiohttp->datasets==2.10.1->-r cs224u/requirements.txt (line 12))\n",
            "  Downloading aiosignal-1.3.1-py3-none-any.whl (7.6 kB)\n",
            "Requirement already satisfied: six>=1.5 in /usr/local/lib/python3.10/dist-packages (from python-dateutil>=2.7->matplotlib>=3.7.0->-r cs224u/requirements.txt (line 3)) (1.16.0)\n",
            "Requirement already satisfied: urllib3<1.27,>=1.21.1 in /usr/local/lib/python3.10/dist-packages (from requests->torchvision==0.14.1->-r cs224u/requirements.txt (line 10)) (1.26.15)\n",
            "Requirement already satisfied: certifi>=2017.4.17 in /usr/local/lib/python3.10/dist-packages (from requests->torchvision==0.14.1->-r cs224u/requirements.txt (line 10)) (2022.12.7)\n",
            "Requirement already satisfied: idna<4,>=2.5 in /usr/local/lib/python3.10/dist-packages (from requests->torchvision==0.14.1->-r cs224u/requirements.txt (line 10)) (3.4)\n",
            "Requirement already satisfied: blis<0.8.0,>=0.7.8 in /usr/local/lib/python3.10/dist-packages (from thinc<8.2.0,>=8.1.8->spacy==3.5.1->-r cs224u/requirements.txt (line 13)) (0.7.9)\n",
            "Requirement already satisfied: confection<1.0.0,>=0.0.1 in /usr/local/lib/python3.10/dist-packages (from thinc<8.2.0,>=8.1.8->spacy==3.5.1->-r cs224u/requirements.txt (line 13)) (0.0.4)\n",
            "Requirement already satisfied: ipython-genutils in /usr/local/lib/python3.10/dist-packages (from ipykernel->jupyter>=1.0.0->-r cs224u/requirements.txt (line 7)) (0.2.0)\n",
            "Requirement already satisfied: ipython>=5.0.0 in /usr/local/lib/python3.10/dist-packages (from ipykernel->jupyter>=1.0.0->-r cs224u/requirements.txt (line 7)) (7.34.0)\n",
            "Requirement already satisfied: traitlets>=4.1.0 in /usr/local/lib/python3.10/dist-packages (from ipykernel->jupyter>=1.0.0->-r cs224u/requirements.txt (line 7)) (5.7.1)\n",
            "Requirement already satisfied: jupyter-client in /usr/local/lib/python3.10/dist-packages (from ipykernel->jupyter>=1.0.0->-r cs224u/requirements.txt (line 7)) (6.1.12)\n",
            "Requirement already satisfied: tornado>=4.2 in /usr/local/lib/python3.10/dist-packages (from ipykernel->jupyter>=1.0.0->-r cs224u/requirements.txt (line 7)) (6.3.1)\n",
            "Requirement already satisfied: widgetsnbextension~=3.6.0 in /usr/local/lib/python3.10/dist-packages (from ipywidgets->jupyter>=1.0.0->-r cs224u/requirements.txt (line 7)) (3.6.4)\n",
            "Requirement already satisfied: jupyterlab-widgets>=1.0.0 in /usr/local/lib/python3.10/dist-packages (from ipywidgets->jupyter>=1.0.0->-r cs224u/requirements.txt (line 7)) (3.0.7)\n",
            "Requirement already satisfied: MarkupSafe>=2.0 in /usr/local/lib/python3.10/dist-packages (from jinja2->spacy==3.5.1->-r cs224u/requirements.txt (line 13)) (2.1.2)\n",
            "Requirement already satisfied: prompt-toolkit!=3.0.0,!=3.0.1,<3.1.0,>=2.0.0 in /usr/local/lib/python3.10/dist-packages (from jupyter-console->jupyter>=1.0.0->-r cs224u/requirements.txt (line 7)) (3.0.38)\n",
            "Requirement already satisfied: pygments in /usr/local/lib/python3.10/dist-packages (from jupyter-console->jupyter>=1.0.0->-r cs224u/requirements.txt (line 7)) (2.14.0)\n",
            "Requirement already satisfied: lxml in /usr/local/lib/python3.10/dist-packages (from nbconvert->jupyter>=1.0.0->-r cs224u/requirements.txt (line 7)) (4.9.2)\n",
            "Requirement already satisfied: beautifulsoup4 in /usr/local/lib/python3.10/dist-packages (from nbconvert->jupyter>=1.0.0->-r cs224u/requirements.txt (line 7)) (4.11.2)\n",
            "Requirement already satisfied: bleach in /usr/local/lib/python3.10/dist-packages (from nbconvert->jupyter>=1.0.0->-r cs224u/requirements.txt (line 7)) (6.0.0)\n",
            "Requirement already satisfied: defusedxml in /usr/local/lib/python3.10/dist-packages (from nbconvert->jupyter>=1.0.0->-r cs224u/requirements.txt (line 7)) (0.7.1)\n",
            "Requirement already satisfied: entrypoints>=0.2.2 in /usr/local/lib/python3.10/dist-packages (from nbconvert->jupyter>=1.0.0->-r cs224u/requirements.txt (line 7)) (0.4)\n",
            "Requirement already satisfied: jupyter-core>=4.7 in /usr/local/lib/python3.10/dist-packages (from nbconvert->jupyter>=1.0.0->-r cs224u/requirements.txt (line 7)) (5.3.0)\n",
            "Requirement already satisfied: jupyterlab-pygments in /usr/local/lib/python3.10/dist-packages (from nbconvert->jupyter>=1.0.0->-r cs224u/requirements.txt (line 7)) (0.2.2)\n",
            "Requirement already satisfied: mistune<2,>=0.8.1 in /usr/local/lib/python3.10/dist-packages (from nbconvert->jupyter>=1.0.0->-r cs224u/requirements.txt (line 7)) (0.8.4)\n",
            "Requirement already satisfied: nbclient>=0.5.0 in /usr/local/lib/python3.10/dist-packages (from nbconvert->jupyter>=1.0.0->-r cs224u/requirements.txt (line 7)) (0.7.4)\n",
            "Requirement already satisfied: nbformat>=5.1 in /usr/local/lib/python3.10/dist-packages (from nbconvert->jupyter>=1.0.0->-r cs224u/requirements.txt (line 7)) (5.8.0)\n",
            "Requirement already satisfied: pandocfilters>=1.4.1 in /usr/local/lib/python3.10/dist-packages (from nbconvert->jupyter>=1.0.0->-r cs224u/requirements.txt (line 7)) (1.5.0)\n",
            "Requirement already satisfied: tinycss2 in /usr/local/lib/python3.10/dist-packages (from nbconvert->jupyter>=1.0.0->-r cs224u/requirements.txt (line 7)) (1.2.1)\n",
            "Requirement already satisfied: pyzmq>=17 in /usr/local/lib/python3.10/dist-packages (from notebook->jupyter>=1.0.0->-r cs224u/requirements.txt (line 7)) (23.2.1)\n",
            "Requirement already satisfied: argon2-cffi in /usr/local/lib/python3.10/dist-packages (from notebook->jupyter>=1.0.0->-r cs224u/requirements.txt (line 7)) (21.3.0)\n",
            "Requirement already satisfied: nest-asyncio>=1.5 in /usr/local/lib/python3.10/dist-packages (from notebook->jupyter>=1.0.0->-r cs224u/requirements.txt (line 7)) (1.5.6)\n",
            "Requirement already satisfied: Send2Trash>=1.8.0 in /usr/local/lib/python3.10/dist-packages (from notebook->jupyter>=1.0.0->-r cs224u/requirements.txt (line 7)) (1.8.0)\n",
            "Requirement already satisfied: terminado>=0.8.3 in /usr/local/lib/python3.10/dist-packages (from notebook->jupyter>=1.0.0->-r cs224u/requirements.txt (line 7)) (0.17.1)\n",
            "Requirement already satisfied: prometheus-client in /usr/local/lib/python3.10/dist-packages (from notebook->jupyter>=1.0.0->-r cs224u/requirements.txt (line 7)) (0.16.0)\n",
            "Collecting qtpy>=2.0.1 (from qtconsole->jupyter>=1.0.0->-r cs224u/requirements.txt (line 7))\n",
            "  Downloading QtPy-2.3.1-py3-none-any.whl (84 kB)\n",
            "\u001b[2K     \u001b[90m━━━━━━━━━━━━━━━━━━━━━━━━━━━━━━━━━━━━━━━━\u001b[0m \u001b[32m84.9/84.9 kB\u001b[0m \u001b[31m10.9 MB/s\u001b[0m eta \u001b[36m0:00:00\u001b[0m\n",
            "\u001b[?25hCollecting jedi>=0.16 (from ipython>=5.0.0->ipykernel->jupyter>=1.0.0->-r cs224u/requirements.txt (line 7))\n",
            "  Downloading jedi-0.18.2-py2.py3-none-any.whl (1.6 MB)\n",
            "\u001b[2K     \u001b[90m━━━━━━━━━━━━━━━━━━━━━━━━━━━━━━━━━━━━━━━━\u001b[0m \u001b[32m1.6/1.6 MB\u001b[0m \u001b[31m55.2 MB/s\u001b[0m eta \u001b[36m0:00:00\u001b[0m\n",
            "\u001b[?25hRequirement already satisfied: decorator in /usr/local/lib/python3.10/dist-packages (from ipython>=5.0.0->ipykernel->jupyter>=1.0.0->-r cs224u/requirements.txt (line 7)) (4.4.2)\n",
            "Requirement already satisfied: pickleshare in /usr/local/lib/python3.10/dist-packages (from ipython>=5.0.0->ipykernel->jupyter>=1.0.0->-r cs224u/requirements.txt (line 7)) (0.7.5)\n",
            "Requirement already satisfied: backcall in /usr/local/lib/python3.10/dist-packages (from ipython>=5.0.0->ipykernel->jupyter>=1.0.0->-r cs224u/requirements.txt (line 7)) (0.2.0)\n",
            "Requirement already satisfied: matplotlib-inline in /usr/local/lib/python3.10/dist-packages (from ipython>=5.0.0->ipykernel->jupyter>=1.0.0->-r cs224u/requirements.txt (line 7)) (0.1.6)\n",
            "Requirement already satisfied: pexpect>4.3 in /usr/local/lib/python3.10/dist-packages (from ipython>=5.0.0->ipykernel->jupyter>=1.0.0->-r cs224u/requirements.txt (line 7)) (4.8.0)\n",
            "Requirement already satisfied: platformdirs>=2.5 in /usr/local/lib/python3.10/dist-packages (from jupyter-core>=4.7->nbconvert->jupyter>=1.0.0->-r cs224u/requirements.txt (line 7)) (3.3.0)\n",
            "Requirement already satisfied: fastjsonschema in /usr/local/lib/python3.10/dist-packages (from nbformat>=5.1->nbconvert->jupyter>=1.0.0->-r cs224u/requirements.txt (line 7)) (2.16.3)\n",
            "Requirement already satisfied: jsonschema>=2.6 in /usr/local/lib/python3.10/dist-packages (from nbformat>=5.1->nbconvert->jupyter>=1.0.0->-r cs224u/requirements.txt (line 7)) (4.3.3)\n",
            "Requirement already satisfied: wcwidth in /usr/local/lib/python3.10/dist-packages (from prompt-toolkit!=3.0.0,!=3.0.1,<3.1.0,>=2.0.0->jupyter-console->jupyter>=1.0.0->-r cs224u/requirements.txt (line 7)) (0.2.6)\n",
            "Requirement already satisfied: ptyprocess in /usr/local/lib/python3.10/dist-packages (from terminado>=0.8.3->notebook->jupyter>=1.0.0->-r cs224u/requirements.txt (line 7)) (0.7.0)\n",
            "Requirement already satisfied: argon2-cffi-bindings in /usr/local/lib/python3.10/dist-packages (from argon2-cffi->notebook->jupyter>=1.0.0->-r cs224u/requirements.txt (line 7)) (21.2.0)\n",
            "Requirement already satisfied: soupsieve>1.2 in /usr/local/lib/python3.10/dist-packages (from beautifulsoup4->nbconvert->jupyter>=1.0.0->-r cs224u/requirements.txt (line 7)) (2.4.1)\n",
            "Requirement already satisfied: webencodings in /usr/local/lib/python3.10/dist-packages (from bleach->nbconvert->jupyter>=1.0.0->-r cs224u/requirements.txt (line 7)) (0.5.1)\n",
            "Requirement already satisfied: parso<0.9.0,>=0.8.0 in /usr/local/lib/python3.10/dist-packages (from jedi>=0.16->ipython>=5.0.0->ipykernel->jupyter>=1.0.0->-r cs224u/requirements.txt (line 7)) (0.8.3)\n",
            "Requirement already satisfied: pyrsistent!=0.17.0,!=0.17.1,!=0.17.2,>=0.14.0 in /usr/local/lib/python3.10/dist-packages (from jsonschema>=2.6->nbformat>=5.1->nbconvert->jupyter>=1.0.0->-r cs224u/requirements.txt (line 7)) (0.19.3)\n",
            "Requirement already satisfied: cffi>=1.0.1 in /usr/local/lib/python3.10/dist-packages (from argon2-cffi-bindings->argon2-cffi->notebook->jupyter>=1.0.0->-r cs224u/requirements.txt (line 7)) (1.15.1)\n",
            "Requirement already satisfied: pycparser in /usr/local/lib/python3.10/dist-packages (from cffi>=1.0.1->argon2-cffi-bindings->argon2-cffi->notebook->jupyter>=1.0.0->-r cs224u/requirements.txt (line 7)) (2.21)\n",
            "Building wheels for collected packages: dsp-ml\n",
            "  Building wheel for dsp-ml (setup.py) ... \u001b[?25l\u001b[?25hdone\n",
            "  Created wheel for dsp-ml: filename=dsp_ml-0.1.5-py3-none-any.whl size=37803 sha256=da8d315f9e6c70c153efabc319754063d9245a7526efa72dc0eaa7b1ce039551\n",
            "  Stored in directory: /tmp/pip-ephem-wheel-cache-fzs56_uj/wheels/b9/cc/21/df1431394d64701ffb9d4a5a20afe701a19275c3090b73fd0e\n",
            "Successfully built dsp-ml\n",
            "Installing collected packages: tokenizers, xxhash, ujson, qtpy, nvidia-cuda-runtime-cu11, nvidia-cuda-nvrtc-cu11, nvidia-cublas-cu11, multidict, jedi, frozenlist, dill, backoff, async-timeout, yarl, responses, nvidia-cudnn-cu11, multiprocess, huggingface-hub, aiosignal, transformers, torch, aiohttp, torchvision, spacy, qtconsole, openai, cohere, datasets, jupyter, dsp-ml\n",
            "  Attempting uninstall: torch\n",
            "    Found existing installation: torch 2.0.1+cu118\n",
            "    Uninstalling torch-2.0.1+cu118:\n",
            "      Successfully uninstalled torch-2.0.1+cu118\n",
            "  Attempting uninstall: torchvision\n",
            "    Found existing installation: torchvision 0.15.2+cu118\n",
            "    Uninstalling torchvision-0.15.2+cu118:\n",
            "      Successfully uninstalled torchvision-0.15.2+cu118\n",
            "  Attempting uninstall: spacy\n",
            "    Found existing installation: spacy 3.5.2\n",
            "    Uninstalling spacy-3.5.2:\n",
            "      Successfully uninstalled spacy-3.5.2\n",
            "\u001b[31mERROR: pip's dependency resolver does not currently take into account all the packages that are installed. This behaviour is the source of the following dependency conflicts.\n",
            "torchaudio 2.0.2+cu118 requires torch==2.0.1, but you have torch 1.13.1 which is incompatible.\n",
            "torchdata 0.6.1 requires torch==2.0.1, but you have torch 1.13.1 which is incompatible.\n",
            "torchtext 0.15.2 requires torch==2.0.1, but you have torch 1.13.1 which is incompatible.\u001b[0m\u001b[31m\n",
            "\u001b[0mSuccessfully installed aiohttp-3.8.4 aiosignal-1.3.1 async-timeout-4.0.2 backoff-2.2.1 cohere-4.9.0 datasets-2.10.1 dill-0.3.6 dsp-ml-0.1.5 frozenlist-1.3.3 huggingface-hub-0.15.1 jedi-0.18.2 jupyter-1.0.0 multidict-6.0.4 multiprocess-0.70.14 nvidia-cublas-cu11-11.10.3.66 nvidia-cuda-nvrtc-cu11-11.7.99 nvidia-cuda-runtime-cu11-11.7.99 nvidia-cudnn-cu11-8.5.0.96 openai-0.27.8 qtconsole-5.4.3 qtpy-2.3.1 responses-0.18.0 spacy-3.5.1 tokenizers-0.13.3 torch-1.13.1 torchvision-0.14.1 transformers-4.26.1 ujson-5.7.0 xxhash-3.2.0 yarl-1.9.2\n"
          ]
        }
      ],
      "source": [
        "try: \n",
        "    # This library is our indicator that the required installs\n",
        "    # need to be done.\n",
        "    import datasets\n",
        "    root_path = '.'\n",
        "except ModuleNotFoundError:\n",
        "    !git clone https://github.com/cgpotts/cs224u/\n",
        "    !pip install -r cs224u/requirements.txt\n",
        "    root_path = 'dsp'"
      ]
    },
    {
      "cell_type": "markdown",
      "source": [
        "Now we import modules to work with DSP, OpenAI, HuggingFace, and Cohere models"
      ],
      "metadata": {
        "id": "mOyqFOZQJ3X1"
      }
    },
    {
      "cell_type": "code",
      "source": [
        "import pandas as pd \n",
        "import cohere\n",
        "from datasets import load_dataset\n",
        "import openai\n",
        "import re\n",
        "import os\n",
        "import dsp\n",
        "import transformers"
      ],
      "metadata": {
        "id": "cOdafIXAJBbA"
      },
      "execution_count": 4,
      "outputs": []
    },
    {
      "cell_type": "markdown",
      "source": [
        "Now we import key variables such as API keys. Steps:\n",
        "\n",
        "1) Create a keys.txt file in the root of your /content/ folder in the Colab instance\n",
        "\n",
        "2) Define the API keys you will use \n",
        "\n",
        "3) Run the cell below to import the file"
      ],
      "metadata": {
        "id": "i4FR-mNlJ9rw"
      }
    },
    {
      "cell_type": "code",
      "source": [
        "# Read the contents of the file\n",
        "with open('/content/keys.txt', 'r') as file:\n",
        "    file_contents = file.read()\n",
        "\n",
        "# Assign the variables\n",
        "exec(file_contents)\n",
        "\n",
        "os.environ[\"DSP_NOTEBOOK_CACHEDIR\"] = os.path.join(root_path, 'cache')\n",
        "openai_key = OPENAI_API_KEY  \n",
        "cohere_key = COHERE_API_KEY  "
      ],
      "metadata": {
        "id": "92qnhnLnJGmj"
      },
      "execution_count": 378,
      "outputs": []
    },
    {
      "cell_type": "markdown",
      "source": [
        "## Model setting\n",
        "\n",
        "Now we define a choice of LM and setup the DSP environment."
      ],
      "metadata": {
        "id": "r4BukR4-LE_h"
      }
    },
    {
      "cell_type": "code",
      "source": [
        "[d[\"root\"] for d in openai.Model.list(api_key=openai_key)[\"data\"]]"
      ],
      "metadata": {
        "colab": {
          "base_uri": "https://localhost:8080/"
        },
        "id": "q11lHHwd5217",
        "outputId": "0093d406-191d-4d88-ee06-7b79845ef5bd"
      },
      "execution_count": 10,
      "outputs": [
        {
          "output_type": "execute_result",
          "data": {
            "text/plain": [
              "['whisper-1',\n",
              " 'babbage',\n",
              " 'davinci',\n",
              " 'text-davinci-edit-001',\n",
              " 'babbage-code-search-code',\n",
              " 'text-similarity-babbage-001',\n",
              " 'code-davinci-edit-001',\n",
              " 'text-davinci-001',\n",
              " 'ada',\n",
              " 'babbage-code-search-text',\n",
              " 'babbage-similarity',\n",
              " 'gpt-3.5-turbo',\n",
              " 'code-search-babbage-text-001',\n",
              " 'text-curie-001',\n",
              " 'code-search-babbage-code-001',\n",
              " 'text-ada-001',\n",
              " 'text-similarity-ada-001',\n",
              " 'curie-instruct-beta',\n",
              " 'ada-code-search-code',\n",
              " 'ada-similarity',\n",
              " 'code-search-ada-text-001',\n",
              " 'text-search-ada-query-001',\n",
              " 'davinci-search-document',\n",
              " 'ada-code-search-text',\n",
              " 'text-search-ada-doc-001',\n",
              " 'davinci-instruct-beta',\n",
              " 'text-similarity-curie-001',\n",
              " 'code-search-ada-code-001',\n",
              " 'ada-search-query',\n",
              " 'text-search-davinci-query-001',\n",
              " 'curie-search-query',\n",
              " 'davinci-search-query',\n",
              " 'babbage-search-document',\n",
              " 'ada-search-document',\n",
              " 'text-search-curie-query-001',\n",
              " 'text-search-babbage-doc-001',\n",
              " 'curie-search-document',\n",
              " 'text-search-curie-doc-001',\n",
              " 'babbage-search-query',\n",
              " 'text-babbage-001',\n",
              " 'text-search-davinci-doc-001',\n",
              " 'text-search-babbage-query-001',\n",
              " 'curie-similarity',\n",
              " 'gpt-3.5-turbo-0301',\n",
              " 'curie',\n",
              " 'text-similarity-davinci-001',\n",
              " 'text-davinci-002',\n",
              " 'gpt-4-0314',\n",
              " 'text-davinci-003',\n",
              " 'davinci-similarity',\n",
              " 'gpt-4',\n",
              " 'text-embedding-ada-002']"
            ]
          },
          "metadata": {},
          "execution_count": 10
        }
      ]
    },
    {
      "cell_type": "code",
      "source": [
        "## We use the chatGPT AR-LM model\n",
        "\n",
        "#lm = dsp.GPT3(model = \"gpt-4\", api_key=openai_key, model_type=\"chat\")\n",
        "lm = dsp.Cohere(model = \"command-xlarge-nightly\", api_key=cohere_key)\n",
        "dsp.settings.configure(lm=lm)\n",
        "dsp.settings.show_guidelines = True"
      ],
      "metadata": {
        "id": "R-qXw7kxLPYp"
      },
      "execution_count": 381,
      "outputs": []
    },
    {
      "cell_type": "markdown",
      "source": [
        "### Loading the dataset\n",
        "Upload a tab separated version of the dataset to /content/."
      ],
      "metadata": {
        "id": "4viPCioLLwRf"
      }
    },
    {
      "cell_type": "code",
      "source": [
        "dataset = pd.read_csv('ipcc_statements_dataset.tsv', sep='\\t', skiprows=0)\n",
        "\n",
        "train_set = df.loc[df['split'] == 'train']\n",
        "test_set = df.loc[df['split'] == 'test']\n",
        "\n",
        "test_set.tail"
      ],
      "metadata": {
        "colab": {
          "base_uri": "https://localhost:8080/"
        },
        "id": "OssAa2klLvzW",
        "outputId": "25069ad6-09d4-43d9-a4b9-aedf36d0c3b5"
      },
      "execution_count": 48,
      "outputs": [
        {
          "output_type": "execute_result",
          "data": {
            "text/plain": [
              "<bound method NDFrame.tail of       statement_idx     report  page_num  sent_num  \\\n",
              "3                 3    AR6_WGI        24         2   \n",
              "42               42    AR6_WGI        37        16   \n",
              "77               77    AR6_WGI        47         7   \n",
              "81               81    AR6_WGI        62         2   \n",
              "86               86    AR6_WGI        63         8   \n",
              "...             ...        ...       ...       ...   \n",
              "8024           8024  AR6_WGIII      1827        13   \n",
              "8056           8056  AR6_WGIII      2011         5   \n",
              "8067           8067  AR6_WGIII      2012         8   \n",
              "8086           8086  AR6_WGIII      2016         8   \n",
              "8093           8093  AR6_WGIII      2058        21   \n",
              "\n",
              "                                              statement confidence  score  \\\n",
              "3     Since 1750, increases in CO2 (47%) and CH4 (15...  very high      3   \n",
              "42    Over the next 2000 years, global mean sea leve...        low      0   \n",
              "77    By the end of the century, scenarios with very...       high      2   \n",
              "81    Over the past millennium, and especially since...     medium      1   \n",
              "86    The paleo context supports the assessment that...       high      2   \n",
              "...                                                 ...        ...    ...   \n",
              "8024  REDD+ can significantly contribute to climate ...       high      2   \n",
              "8056  Large-scale bioenergy projects with CCS may be...     medium      1   \n",
              "8067  Reforestation and forest restoration can have ...     medium      1   \n",
              "8086  BEVs could create jobs associated with the EV ...        low      0   \n",
              "8093  For pathways that limit warming to 2°C (>67%) ...       high      2   \n",
              "\n",
              "     split  \n",
              "3     test  \n",
              "42    test  \n",
              "77    test  \n",
              "81    test  \n",
              "86    test  \n",
              "...    ...  \n",
              "8024  test  \n",
              "8056  test  \n",
              "8067  test  \n",
              "8086  test  \n",
              "8093  test  \n",
              "\n",
              "[300 rows x 8 columns]>"
            ]
          },
          "metadata": {},
          "execution_count": 48
        }
      ]
    },
    {
      "cell_type": "code",
      "source": [
        "ipcc_sent = [dsp.Example(input=row['statement'], label=row['confidence'], score=row['score'], report=row['report'])\n",
        "                    for _, row in test_set.iterrows()]"
      ],
      "metadata": {
        "id": "-21GN7mGX17J"
      },
      "execution_count": 18,
      "outputs": []
    },
    {
      "cell_type": "code",
      "source": [
        "ipcc_sent[:10]"
      ],
      "metadata": {
        "colab": {
          "base_uri": "https://localhost:8080/"
        },
        "id": "bMrlFsaPOJU-",
        "outputId": "071e2d17-5679-494e-e6ec-26d3c26afd1c"
      },
      "execution_count": 13,
      "outputs": [
        {
          "output_type": "execute_result",
          "data": {
            "text/plain": [
              "[{'input': 'Since 1750, increases in CO2 (47%) and CH4 (156%) concentrations far exceed – and increases in N2O (23%) are similar to – the natural multi-millennial changes between glacial and interglacial periods over at least the past 800,000 years',\n",
              "  'label': 'very high'},\n",
              " {'input': 'Over the next 2000 years, global mean sea level will rise by about 2 to 3 m if warming is limited to 1.5°C, 2 to 6 m if limited to 2°C and 19 to 22 m with 5°C of warming, and it will continue to rise over subsequent millennia',\n",
              "  'label': 'low'},\n",
              " {'input': 'By the end of the century, scenarios with very low and low GHG emissions would strongly limit the change of several CIDs, such as the increases in the frequency of extreme sea level events, heavy precipitation and pluvial flooding, and exceedance of dangerous heat thresholds, while limiting the number of regions where such exceedances occur, relative to higher GHG emissions scenarios',\n",
              "  'label': 'high'},\n",
              " {'input': 'Over the past millennium, and especially since about 1300 CE, simulated global surface temperature anomalies are well within the uncertainty of reconstructions',\n",
              "  'label': 'medium'},\n",
              " {'input': 'The paleo context supports the assessment that ongoing increase in ocean heat content (OHC) represents a long-term commitment, essentially irreversible on human time scales',\n",
              "  'label': 'high'},\n",
              " {'input': 'These higher sensitivity values can, in some models, be traced to changes in extratropical cloud feedbacks',\n",
              "  'label': 'medium'},\n",
              " {'input': 'Model estimates suggest no significant change in oxidizing capacity from 1850 to 1980',\n",
              "  'label': 'low'},\n",
              " {'input': 'Projected changes in the intensity depend on the resolution of climate models',\n",
              "  'label': 'medium'},\n",
              " {'input': 'A long-term increase in surface open ocean pH occurred over the past 50 million years, and surface ocean pH as low as recent times is uncommon in the last 2 million years',\n",
              "  'label': 'medium'},\n",
              " {'input': 'Ocean warming is irreversible over centuries to millennia, but the magnitude of warming is scenario-dependent from about the mid-21st century',\n",
              "  'label': 'medium'}]"
            ]
          },
          "metadata": {},
          "execution_count": 13
        }
      ]
    },
    {
      "cell_type": "markdown",
      "source": [
        "### Perform checks on dataset\n"
      ],
      "metadata": {
        "id": "bRFu3D9zmNck"
      }
    },
    {
      "cell_type": "code",
      "source": [
        "print(len(ipcc_sent))\n",
        "print(len([ex for ex in ipcc_sent if ex.label=='low']))\n",
        "print(len([ex for ex in ipcc_sent if ex.report=='AR6_WGIII']))\n",
        "print(len([ex for ex in ipcc_sent if ex.score==2]))"
      ],
      "metadata": {
        "colab": {
          "base_uri": "https://localhost:8080/"
        },
        "id": "s3tmicIyUUIj",
        "outputId": "a46c9a3d-1c22-44ca-b107-e30b2c6f0f17"
      },
      "execution_count": 23,
      "outputs": [
        {
          "output_type": "stream",
          "name": "stdout",
          "text": [
            "300\n",
            "50\n",
            "35\n",
            "100\n"
          ]
        }
      ]
    },
    {
      "cell_type": "markdown",
      "source": [
        "## Defining templates\n",
        "\n",
        "### Zero-shot learning\n",
        "Testing how models do on the task right out of the gate."
      ],
      "metadata": {
        "id": "JcN630LpOWaI"
      }
    },
    {
      "cell_type": "code",
      "source": [
        "Input = dsp.Type(\n",
        "    prefix=\"Statement:\", \n",
        "    desc=\"${a short statement about climate.}\")\n",
        "\n",
        "Label = dsp.Type(\n",
        "    prefix=\"Confidence:\", \n",
        "    desc=\"${must be *only*: 'low', 'medium', 'high', 'very high'}\")\n",
        "\n",
        "zero_shot_template = dsp.Template(\n",
        "    instructions=\"You are a knowledgeable climate science assistant trained to assess the confidence level associated with various statements about climate change. \\\n",
        "      \\n\\nYou will be presented with a statement about climate science, climate impacts or climate change mitigation which is retrieved or paraphrased from the IPCC AR6 WGI, WGII or WGIII assessment reports. Climate scientists have evaluated that statement as low confidence, medium confidence, high confidence, or very high confidence, based on evidence (type, amount, quantity, consistency) and agreement among their peers. What is their confidence level?  \\\n",
        "      \\n\\nRespond *only* with one of the following words: 'low', 'medium', 'high', 'very high'. If you don't know, you can respond 'I don't know'.\",\n",
        "    input=Input(),\n",
        "    output=Label())"
      ],
      "metadata": {
        "id": "8oiVbQ94OYYd"
      },
      "execution_count": 330,
      "outputs": []
    },
    {
      "cell_type": "markdown",
      "source": [
        "Example:"
      ],
      "metadata": {
        "id": "wORGK6fTZsjC"
      }
    },
    {
      "cell_type": "code",
      "source": [
        "ex = dsp.Example(\n",
        "    input=ipcc_sent[0]['input'], label=ipcc_sent[0]['label'])\n",
        "\n",
        "ex.demos=dsp.sample(ipcc_sent, 0)\n",
        "\n",
        "print(zero_shot_template(ex))"
      ],
      "metadata": {
        "colab": {
          "base_uri": "https://localhost:8080/"
        },
        "id": "WqQ75vTGZt03",
        "outputId": "9bc1dc17-7343-4c2e-f306-979ec278ed50"
      },
      "execution_count": 331,
      "outputs": [
        {
          "output_type": "stream",
          "name": "stdout",
          "text": [
            "You are a knowledgeable climate science assistant trained to assess the confidence level associated with various statements about climate change.       \n",
            "\n",
            "You will be presented with a statement about climate science, climate impacts or climate change mitigation which is retrieved or paraphrased from the IPCC AR6 WGI, WGII or WGIII assessment reports. Climate scientists have evaluated that statement as low confidence, medium confidence, high confidence, or very high confidence, based on evidence (type, amount, quantity, consistency) and agreement among their peers. What is their confidence level?        \n",
            "\n",
            "Respond *only* with one of the following words: 'low', 'medium', 'high', 'very high'. If you don't know, you can respond 'I don't know'.\n",
            "\n",
            "---\n",
            "\n",
            "Follow the following format.\n",
            "\n",
            "Statement: ${a short statement about climate.}\n",
            "Confidence: ${must be *only*: 'low', 'medium', 'high', 'very high'}\n",
            "\n",
            "---\n",
            "\n",
            "Statement: Since 1750, increases in CO2 (47%) and CH4 (156%) concentrations far exceed – and increases in N2O (23%) are similar to – the natural multi-millennial changes between glacial and interglacial periods over at least the past 800,000 years\n",
            "Confidence:\n"
          ]
        }
      ]
    },
    {
      "cell_type": "markdown",
      "source": [
        "## Defining the task\n",
        "\n",
        "With zero shot we simply provide instructions and provide a format template, with no training demonstrations."
      ],
      "metadata": {
        "id": "ONZfaTzxZja0"
      }
    },
    {
      "cell_type": "code",
      "source": [
        "@dsp.transformation\n",
        "def assess_certainty(example, temperature=0.7): \n",
        "    \n",
        "    example, completion = dsp.generate(zero_shot_template,  temperature=temperature)(example, stage='zero-shot')\n",
        "\n",
        "    return completion\n",
        "\n",
        "def extract_confidence(text):\n",
        "    if re.search(r\"low\", text, re.IGNORECASE):\n",
        "        return \"low\"\n",
        "    elif re.search(r\"medium\", text, re.IGNORECASE):\n",
        "        return \"medium\"\n",
        "    elif re.search(r\"very high\", text, re.IGNORECASE):\n",
        "        return \"very high\"\n",
        "    elif re.search(r\"high\", text, re.IGNORECASE):\n",
        "        return \"high\"\n",
        "    elif re.search(r\"i don't know\", text, re.IGNORECASE):\n",
        "        return \"idk\"\n",
        "    else:\n",
        "        return \"N/A\""
      ],
      "metadata": {
        "id": "I7VWLcOdPmXK"
      },
      "execution_count": 332,
      "outputs": []
    },
    {
      "cell_type": "markdown",
      "source": [
        "Testing our task on the first sentence of the dataset: gpt3.5-turbo gets this first task right!"
      ],
      "metadata": {
        "id": "VW71OwRIeqgT"
      }
    },
    {
      "cell_type": "code",
      "source": [
        "assess_certainty(ex).label"
      ],
      "metadata": {
        "colab": {
          "base_uri": "https://localhost:8080/",
          "height": 35
        },
        "id": "uM3jPoEEeX9_",
        "outputId": "575e8f62-d54e-48a8-eab3-e347f8f1a27d"
      },
      "execution_count": 370,
      "outputs": [
        {
          "output_type": "execute_result",
          "data": {
            "text/plain": [
              "'very high'"
            ],
            "application/vnd.google.colaboratory.intrinsic+json": {
              "type": "string"
            }
          },
          "metadata": {},
          "execution_count": 370
        }
      ]
    },
    {
      "cell_type": "code",
      "source": [
        "lm.inspect_history(n=1)"
      ],
      "metadata": {
        "colab": {
          "base_uri": "https://localhost:8080/"
        },
        "id": "LK25jd_jtNQl",
        "outputId": "45f00c29-404a-4ee0-be3e-922d27aa220d"
      },
      "execution_count": 372,
      "outputs": [
        {
          "output_type": "stream",
          "name": "stdout",
          "text": [
            "\n",
            "\n",
            "\n",
            "\n",
            "You are a knowledgeable climate science assistant trained to assess the confidence level associated with various statements about climate change.       \n",
            "\n",
            "You will be presented with a statement about climate science, climate impacts or climate change mitigation which is retrieved or paraphrased from the IPCC AR6 WGI, WGII or WGIII assessment reports. Climate scientists have evaluated that statement as low confidence, medium confidence, high confidence, or very high confidence, based on evidence (type, amount, quantity, consistency) and agreement among their peers. What is their confidence level?        \n",
            "\n",
            "Respond *only* with one of the following words: 'low', 'medium', 'high', 'very high'. If you don't know, you can respond 'I don't know'.\n",
            "\n",
            "---\n",
            "\n",
            "Follow the following format.\n",
            "\n",
            "Statement: ${a short statement about climate.}\n",
            "Confidence: ${must be *only*: 'low', 'medium', 'high', 'very high'}\n",
            "\n",
            "---\n",
            "\n",
            "Statement: Since 1750, increases in CO2 (47%) and CH4 (156%) concentrations far exceed – and increases in N2O (23%) are similar to – the natural multi-millennial changes between glacial and interglacial periods over at least the past 800,000 years\n",
            "Confidence:\u001b[32m high\u001b[0m\n",
            "\n",
            "\n",
            "\n"
          ]
        }
      ]
    },
    {
      "cell_type": "markdown",
      "source": [
        "# First experiment\n",
        "\n",
        "We assess the certainty level of the LM on the dataset, filter the output for extra \"confidence\" etc., then compare with ground truth."
      ],
      "metadata": {
        "id": "JPfSCzP2fAkL"
      }
    },
    {
      "cell_type": "code",
      "source": [
        "samples = test_set.copy()  # Dev: train_set.sample(n=100, random_state=12).copy() | Experiment: test_set.copy()\n",
        "\n",
        "samples.head"
      ],
      "metadata": {
        "id": "rB8fieaReqPg",
        "colab": {
          "base_uri": "https://localhost:8080/"
        },
        "outputId": "bc6ea381-d1e6-4894-ed97-5bb169c51e26"
      },
      "execution_count": 382,
      "outputs": [
        {
          "output_type": "execute_result",
          "data": {
            "text/plain": [
              "<bound method NDFrame.head of       statement_idx     report  page_num  sent_num  \\\n",
              "3                 3    AR6_WGI        24         2   \n",
              "42               42    AR6_WGI        37        16   \n",
              "77               77    AR6_WGI        47         7   \n",
              "81               81    AR6_WGI        62         2   \n",
              "86               86    AR6_WGI        63         8   \n",
              "...             ...        ...       ...       ...   \n",
              "8024           8024  AR6_WGIII      1827        13   \n",
              "8056           8056  AR6_WGIII      2011         5   \n",
              "8067           8067  AR6_WGIII      2012         8   \n",
              "8086           8086  AR6_WGIII      2016         8   \n",
              "8093           8093  AR6_WGIII      2058        21   \n",
              "\n",
              "                                              statement confidence  score  \\\n",
              "3     Since 1750, increases in CO2 (47%) and CH4 (15...  very high      3   \n",
              "42    Over the next 2000 years, global mean sea leve...        low      0   \n",
              "77    By the end of the century, scenarios with very...       high      2   \n",
              "81    Over the past millennium, and especially since...     medium      1   \n",
              "86    The paleo context supports the assessment that...       high      2   \n",
              "...                                                 ...        ...    ...   \n",
              "8024  REDD+ can significantly contribute to climate ...       high      2   \n",
              "8056  Large-scale bioenergy projects with CCS may be...     medium      1   \n",
              "8067  Reforestation and forest restoration can have ...     medium      1   \n",
              "8086  BEVs could create jobs associated with the EV ...        low      0   \n",
              "8093  For pathways that limit warming to 2°C (>67%) ...       high      2   \n",
              "\n",
              "     split  \n",
              "3     test  \n",
              "42    test  \n",
              "77    test  \n",
              "81    test  \n",
              "86    test  \n",
              "...    ...  \n",
              "8024  test  \n",
              "8056  test  \n",
              "8067  test  \n",
              "8086  test  \n",
              "8093  test  \n",
              "\n",
              "[300 rows x 8 columns]>"
            ]
          },
          "metadata": {},
          "execution_count": 382
        }
      ]
    },
    {
      "cell_type": "code",
      "source": [
        "samples['prediction'] = samples.statement.apply(\n",
        "    lambda x: extract_confidence(assess_certainty(dsp.Example(input=x, demos=dsp.sample(ipcc_sent, 0)), temperature=0).output.lower()))"
      ],
      "metadata": {
        "id": "OD0cALUafsUo"
      },
      "execution_count": 383,
      "outputs": []
    },
    {
      "cell_type": "code",
      "source": [
        "lm.inspect_history(n=1)"
      ],
      "metadata": {
        "colab": {
          "base_uri": "https://localhost:8080/"
        },
        "id": "DBrd-4WAtCWQ",
        "outputId": "e3dd8150-0a70-401a-ee15-3cc8a44e17e0"
      },
      "execution_count": 357,
      "outputs": [
        {
          "output_type": "stream",
          "name": "stdout",
          "text": [
            "\n",
            "\n",
            "\n",
            "\n",
            "You are a knowledgeable climate science assistant trained to assess the confidence level associated with various statements about climate change.       \n",
            "\n",
            "You will be presented with a statement about climate science, climate impacts or climate change mitigation which is retrieved or paraphrased from the IPCC AR6 WGI, WGII or WGIII assessment reports. Climate scientists have evaluated that statement as low confidence, medium confidence, high confidence, or very high confidence, based on evidence (type, amount, quantity, consistency) and agreement among their peers. What is their confidence level?        \n",
            "\n",
            "Respond *only* with one of the following words: 'low', 'medium', 'high', 'very high'. If you don't know, you can respond 'I don't know'.\n",
            "\n",
            "---\n",
            "\n",
            "Follow the following format.\n",
            "\n",
            "Statement: ${a short statement about climate.}\n",
            "Confidence: ${must be *only*: 'low', 'medium', 'high', 'very high'}\n",
            "\n",
            "---\n",
            "\n",
            "Statement: Ocean warming is irreversible over centuries to millennia, but the magnitude of warming is scenario-dependent from about the mid-21st century\n",
            "Confidence:\u001b[32mhigh\u001b[0m\n",
            "\n",
            "\n",
            "\n"
          ]
        }
      ]
    },
    {
      "cell_type": "code",
      "source": [
        "samples['correct'] = samples.apply(\n",
        "    lambda row: (row['confidence'] == row['prediction']), axis=1)\n",
        "\n",
        "print(f\"Accuracy: {samples['correct'].sum() / (samples.shape[0]-len(samples[samples['prediction'] == 'idk'])):.3f}\")\n",
        "print(f\"'I don't know': {len(samples[samples['prediction'] == 'idk'])}\")\n",
        "print(f\"N/A: {len(samples[samples['prediction'] == 'N/A'])}\")"
      ],
      "metadata": {
        "colab": {
          "base_uri": "https://localhost:8080/"
        },
        "id": "shRBi3TugMX9",
        "outputId": "acc0cf33-348c-4c6c-9b3d-251e7934a2f8"
      },
      "execution_count": 385,
      "outputs": [
        {
          "output_type": "stream",
          "name": "stdout",
          "text": [
            "Accuracy: 0.310\n",
            "'I don't know': 0\n",
            "N/A: 0\n"
          ]
        }
      ]
    },
    {
      "cell_type": "code",
      "source": [
        "samples.loc[samples['confidence'] == 'very high'].head"
      ],
      "metadata": {
        "colab": {
          "base_uri": "https://localhost:8080/"
        },
        "id": "F9TR380Bgk_S",
        "outputId": "bdbaa143-0788-471a-8d12-ec5ed84a98c6"
      },
      "execution_count": 308,
      "outputs": [
        {
          "output_type": "execute_result",
          "data": {
            "text/plain": [
              "<bound method NDFrame.head of       statement_idx     report  page_num  sent_num  \\\n",
              "3                 3    AR6_WGI        24         2   \n",
              "190             190    AR6_WGI        93        13   \n",
              "497             497    AR6_WGI       203        15   \n",
              "741             741    AR6_WGI       463        12   \n",
              "855             855    AR6_WGI       593         3   \n",
              "922             922    AR6_WGI       692         7   \n",
              "1390           1390    AR6_WGI      1230        13   \n",
              "1591           1591    AR6_WGI      1382        27   \n",
              "2016           2016    AR6_WGI      1864        23   \n",
              "2095           2095    AR6_WGI      1876        18   \n",
              "2310           2310   AR6_WGII        20        16   \n",
              "2392           2392   AR6_WGII        26         4   \n",
              "2430           2430   AR6_WGII        31        15   \n",
              "2473           2473   AR6_WGII        36        18   \n",
              "2572           2572   AR6_WGII        58         9   \n",
              "2589           2589   AR6_WGII        59        15   \n",
              "2930           2930   AR6_WGII        95         6   \n",
              "3127           3127   AR6_WGII       112        31   \n",
              "3186           3186   AR6_WGII       121        24   \n",
              "3222           3222   AR6_WGII       163        10   \n",
              "3242           3242   AR6_WGII       211         6   \n",
              "3246           3246   AR6_WGII       211        21   \n",
              "3250           3250   AR6_WGII       211        29   \n",
              "3455           3455   AR6_WGII       316         9   \n",
              "3487           3487   AR6_WGII       393         4   \n",
              "3553           3553   AR6_WGII       411        17   \n",
              "4052           4052   AR6_WGII       581        19   \n",
              "4696           4696   AR6_WGII      1057        29   \n",
              "5120           5120   AR6_WGII      1595         2   \n",
              "5137           5137   AR6_WGII      1598         6   \n",
              "5243           5243   AR6_WGII      1640        17   \n",
              "5285           5285   AR6_WGII      1656         2   \n",
              "5354           5354   AR6_WGII      1712        14   \n",
              "6885           6885   AR6_WGII      2555        11   \n",
              "7102           7102   AR6_WGII      2699        22   \n",
              "7104           7104   AR6_WGII      2700         9   \n",
              "7114           7114   AR6_WGII      2703         3   \n",
              "7131           7131   AR6_WGII      2718        23   \n",
              "7132           7132   AR6_WGII      2718        26   \n",
              "7135           7135   AR6_WGII      2719        29   \n",
              "7146           7146   AR6_WGII      2725         8   \n",
              "7149           7149   AR6_WGII      2727        17   \n",
              "7152           7152   AR6_WGII      2728        15   \n",
              "7163           7163   AR6_WGII      2733        19   \n",
              "7171           7171   AR6_WGII      2735         8   \n",
              "7244           7244  AR6_WGIII        25         5   \n",
              "7271           7271  AR6_WGIII        42         8   \n",
              "7432           7432  AR6_WGIII       106        10   \n",
              "7641           7641  AR6_WGIII       427        32   \n",
              "7859           7859  AR6_WGIII      1026         3   \n",
              "\n",
              "                                              statement confidence  score  \\\n",
              "3     Since 1750, increases in CO2 (47%) and CH4 (15...  very high      3   \n",
              "190   The total Antarctic ice mass losses were domin...  very high      3   \n",
              "497   Over the period 1982–2016, marine heatwaves ha...  very high      3   \n",
              "741   Although there is noticeable uncertainty among...  very high      3   \n",
              "855   We assess that the cumulative uptake of carbon...  very high      3   \n",
              "922   Current atmospheric concentrations of the thre...  very high      3   \n",
              "1390  The long time scale also implies that the amou...  very high      3   \n",
              "1591  Dynamical downscaling using regional climate m...  very high      3   \n",
              "2016  Climate change-related variations in oceanic d...  very high      3   \n",
              "2095  Spring Snow Cover has seen substantial reducti...  very high      3   \n",
              "2310  Approximately half of the species assessed glo...  very high      3   \n",
              "2392  Mental health challenges, including anxiety an...  very high      3   \n",
              "2430  Adaptation can generate multiple additional be...  very high      3   \n",
              "2473  Health and well-being would benefit from integ...  very high      3   \n",
              "2572  Coastal ‘blue carbon’ systems are already impa...  very high      3   \n",
              "2589  Climate-related extreme events are followed by...  very high      3   \n",
              "2930  For example, Africa faces severe climate data ...  very high      3   \n",
              "3127  There are very few examples of successful inte...  very high      3   \n",
              "3186  Networked community actions can address neighb...  very high      3   \n",
              "3222  Responses of biota to rapid climate change hav...  very high      3   \n",
              "3242  Where attribution was assessed (>4,000 species...  very high      3   \n",
              "3246  Indirect changes include alterations in river ...  very high      3   \n",
              "3250  Local population extinctions caused by climate...  very high      3   \n",
              "3455  Draining, cutting and burning peat lead to oxi...  very high      3   \n",
              "3487  Combined climate- induced drivers and non-clim...  very high      3   \n",
              "3553  Temperature affects the movement and transport...  very high      3   \n",
              "4052  During the last two decades, the global glacie...  very high      3   \n",
              "4696  Building climate-resilient health systems will...  very high      3   \n",
              "5120  Three marine heatwaves on the Great Barrier Re...  very high      3   \n",
              "5137  Some synergies and trade-offs exist between di...  very high      3   \n",
              "5243  There is a central role for Indigenous Peoples...  very high      3   \n",
              "5285  More inclusive, collaborative and learning-ori...  very high      3   \n",
              "5354  The Andean piedmont (500–1200 metres above sea...  very high      3   \n",
              "6885  Climate risks can emerge at different rates an...  very high      3   \n",
              "7102  Synergies between adaptation, mitigation and s...  very high      3   \n",
              "7104  Globally, low climate change projections, vers...  very high      3   \n",
              "7114  Urban transitions will be associated with syne...  very high      3   \n",
              "7131  Addressing climate impacts in isolation is unl...  very high      3   \n",
              "7132  Although higher levels of poverty, corruption,...  very high      3   \n",
              "7135  Stable and predictable carbon-pricing regimes ...  very high      3   \n",
              "7146  Climate-resilient futures will depend on recog...  very high      3   \n",
              "7149  More integration of government policy and inte...  very high      3   \n",
              "7152  While GDP growth can drive growth in income, i...  very high      3   \n",
              "7163  Common indicators of development reflect the s...  very high      3   \n",
              "7171  Issues associated with natural resource depend...  very high      3   \n",
              "7244  At least 18 countries that had Kyoto targets f...  very high      3   \n",
              "7271  For cities, three broad mitigation strategies ...  very high      3   \n",
              "7432  For most regions, per-capita urban emissions a...  very high      3   \n",
              "7641   Climate models project increases in drought risk  very high      3   \n",
              "7859  Future urban expansion will amplify the backgr...  very high      3   \n",
              "\n",
              "     split prediction  correct  \n",
              "3     test  very high     True  \n",
              "190   test       high    False  \n",
              "497   test  very high     True  \n",
              "741   test     medium    False  \n",
              "855   test       high    False  \n",
              "922   test  very high     True  \n",
              "1390  test  very high     True  \n",
              "1591  test       high    False  \n",
              "2016  test       high    False  \n",
              "2095  test  very high     True  \n",
              "2310  test       high    False  \n",
              "2392  test       high    False  \n",
              "2430  test       high    False  \n",
              "2473  test       high    False  \n",
              "2572  test     medium    False  \n",
              "2589  test     medium    False  \n",
              "2930  test       high    False  \n",
              "3127  test     medium    False  \n",
              "3186  test     medium    False  \n",
              "3222  test  very high     True  \n",
              "3242  test  very high     True  \n",
              "3246  test     medium    False  \n",
              "3250  test       high    False  \n",
              "3455  test  very high     True  \n",
              "3487  test       high    False  \n",
              "3553  test  very high     True  \n",
              "4052  test  very high     True  \n",
              "4696  test       high    False  \n",
              "5120  test       high    False  \n",
              "5137  test     medium    False  \n",
              "5243  test       high    False  \n",
              "5285  test       high    False  \n",
              "5354  test     medium    False  \n",
              "6885  test       high    False  \n",
              "7102  test     medium    False  \n",
              "7104  test     medium    False  \n",
              "7114  test       high    False  \n",
              "7131  test     medium    False  \n",
              "7132  test     medium    False  \n",
              "7135  test     medium    False  \n",
              "7146  test     medium    False  \n",
              "7149  test     medium    False  \n",
              "7152  test       high    False  \n",
              "7163  test        low    False  \n",
              "7171  test     medium    False  \n",
              "7244  test       high    False  \n",
              "7271  test       high    False  \n",
              "7432  test       high    False  \n",
              "7641  test     medium    False  \n",
              "7859  test       high    False  >"
            ]
          },
          "metadata": {},
          "execution_count": 308
        }
      ]
    },
    {
      "cell_type": "markdown",
      "source": [
        "## Saving experiment results\n",
        "\n",
        "Make sure to save the results for future analysis if needed."
      ],
      "metadata": {
        "id": "Bn-aDj9EB25L"
      }
    },
    {
      "cell_type": "code",
      "source": [
        "samples.to_csv('gpt4-zeroshot-temp0-202306090044.csv', index=False)"
      ],
      "metadata": {
        "id": "ltYVolc1H_rh"
      },
      "execution_count": 363,
      "outputs": []
    },
    {
      "cell_type": "markdown",
      "source": [
        "## Precision, recall, and F1 score"
      ],
      "metadata": {
        "id": "1N1C-Gy2kcce"
      }
    },
    {
      "cell_type": "code",
      "source": [
        "from sklearn.metrics import f1_score, precision_score, recall_score, accuracy_score, classification_report\n",
        "\n",
        "true_labels = samples.loc[samples['prediction'] != 'idk', 'confidence']\n",
        "predicted_labels = samples.loc[samples['prediction'] != 'idk', 'prediction']\n",
        "\n",
        "# Compute macro F1 score\n",
        "f1 = f1_score(true_labels, predicted_labels, average='macro')\n",
        "print(\"Macro F1 score:\", f1)\n",
        "\n",
        "# Compute weighted F1 score\n",
        "f1 = f1_score(true_labels, predicted_labels, average='weighted')\n",
        "print(\"Weighted F1 score:\", f1)\n",
        "\n",
        "# Compute precision for each class\n",
        "precision = precision_score(true_labels, predicted_labels, average=None)\n",
        "\n",
        "# Compute recall for each class\n",
        "recall = recall_score(true_labels, predicted_labels, average=None)\n",
        "\n",
        "# Compute F1 score for each class\n",
        "f1 = f1_score(true_labels, predicted_labels, average=None)\n",
        "\n",
        "# Create a dataframe to store precision and recall for each class\n",
        "class_metrics_df = pd.DataFrame({'Precision': precision, 'Recall': recall, 'F1': f1})\n",
        "\n",
        "# Add labels to the class metrics dataframe\n",
        "class_metrics_df['Class'] = true_labels.unique().astype(str)\n",
        "\n",
        "# Sort the dataframe by class index or name\n",
        "class_metrics_df = class_metrics_df.sort_values('Class', key=lambda x: pd.Categorical(x, categories=[\"low\", \"medium\", \"high\", \"very high\"]))\n",
        "\n",
        "# Print class metrics dataframe\n",
        "#print(class_metrics_df)\n",
        "\n",
        "# Compute accuracy for the whole system\n",
        "accuracy = accuracy_score(true_labels, predicted_labels)\n",
        "\n",
        "# Compute accuracy by class\n",
        "\n",
        "print(\"Accuracy (total):\", accuracy)\n",
        "\n",
        "report = classification_report(true_labels, predicted_labels, digits=4)\n",
        "print(report)\n",
        "\n",
        "# Count classes\n",
        "category_counts = true_labels.value_counts()\n",
        "print(category_counts)\n",
        "\n"
      ],
      "metadata": {
        "colab": {
          "base_uri": "https://localhost:8080/"
        },
        "id": "-j5UOZ21kekr",
        "outputId": "e170805b-faaa-4c48-989f-2d1f18c0c435"
      },
      "execution_count": 386,
      "outputs": [
        {
          "output_type": "stream",
          "name": "stdout",
          "text": [
            "Macro F1 score: 0.1937667241436784\n",
            "Weighted F1 score: 0.20944680312322064\n",
            "Accuracy (total): 0.31\n",
            "              precision    recall  f1-score   support\n",
            "\n",
            "        high     0.3319    0.7600    0.4620       100\n",
            "         low     1.0000    0.0200    0.0392        50\n",
            "      medium     0.5000    0.0100    0.0196       100\n",
            "   very high     0.2206    0.3000    0.2542        50\n",
            "\n",
            "    accuracy                         0.3100       300\n",
            "   macro avg     0.5131    0.2725    0.1938       300\n",
            "weighted avg     0.4807    0.3100    0.2094       300\n",
            "\n",
            "high         100\n",
            "medium       100\n",
            "very high     50\n",
            "low           50\n",
            "Name: confidence, dtype: int64\n"
          ]
        }
      ]
    },
    {
      "cell_type": "markdown",
      "source": [
        "## Over/under confidence assessment"
      ],
      "metadata": {
        "id": "ZZN3I0fxoRTc"
      }
    },
    {
      "cell_type": "code",
      "source": [
        "filtered_samples = samples.loc[(samples['prediction'] != 'N/A')] # & (samples['report'] != 'AR6_WGI')]\n",
        "\n",
        "value_map = {'low': 0, 'medium': 1, 'high': 2, 'very high': 3, 'idk': 1.5}\n",
        "\n",
        "filtered_samples['predicted_score'] = filtered_samples.prediction.apply(\n",
        "    lambda x: value_map[x])\n",
        "\n",
        "scores_all = {\n",
        "    \"low\": filtered_samples.loc[samples['score'] == 0, 'predicted_score'].mean(),\n",
        "    \"medium\": filtered_samples.loc[samples['score'] == 1, 'predicted_score'].mean(),\n",
        "    \"high\": filtered_samples.loc[samples['score'] == 2, 'predicted_score'].mean(),\n",
        "    \"very high\": filtered_samples.loc[samples['score'] == 3, 'predicted_score'].mean()\n",
        "}\n",
        "\n",
        "scores_wg1 = {\n",
        "    \"low\": filtered_samples.loc[(samples['score'] == 0) & (samples['report'] == 'AR6_WGI'), 'predicted_score'].mean(),\n",
        "    \"medium\": filtered_samples.loc[(samples['score'] == 1) & (samples['report'] == 'AR6_WGI'), 'predicted_score'].mean(),\n",
        "    \"high\": filtered_samples.loc[(samples['score'] == 2) & (samples['report'] == 'AR6_WGI'), 'predicted_score'].mean(),\n",
        "    \"very high\": filtered_samples.loc[(samples['score'] == 3) & (samples['report'] == 'AR6_WGI'), 'predicted_score'].mean()\n",
        "}\n",
        "\n",
        "scores_wg23 = {\n",
        "    \"low\": filtered_samples.loc[(samples['score'] == 0) & (samples['report'] != 'AR6_WGI'), 'predicted_score'].mean(),\n",
        "    \"medium\": filtered_samples.loc[(samples['score'] == 1) & (samples['report'] != 'AR6_WGI'), 'predicted_score'].mean(),\n",
        "    \"high\": filtered_samples.loc[(samples['score'] == 2) & (samples['report'] != 'AR6_WGI'), 'predicted_score'].mean(),\n",
        "    \"very high\": filtered_samples.loc[(samples['score'] == 3) & (samples['report'] != 'AR6_WGI'), 'predicted_score'].mean()\n",
        "}\n",
        "\n",
        "print(\"=== All AR6 reports===\")\n",
        "print(f\"Average ground truth score: {filtered_samples['score'].mean()}\")\n",
        "print(f\"Average predicted score: {filtered_samples['predicted_score'].mean()}\")\n",
        "print(f\"Average scores per category: {scores_all}\\n\")\n",
        "\n",
        "print(\"=== AR6 WGI report ===\")\n",
        "print(f\"Average ground truth score: {filtered_samples.loc[filtered_samples['report'] == 'AR6_WGI', 'score'].mean()}\")\n",
        "print(f\"Average predicted score: {filtered_samples.loc[filtered_samples['report'] == 'AR6_WGI', 'predicted_score'].mean()}\")\n",
        "print(f\"Average scores per category: {scores_wg1}\\n\")\n",
        "\n",
        "print(\"=== AR6 WGII/III reports ===\")\n",
        "print(f\"Average ground truth score: {filtered_samples.loc[filtered_samples['report'] != 'AR6_WGI', 'score'].mean()}\")\n",
        "print(f\"Average predicted score: {filtered_samples.loc[filtered_samples['report'] != 'AR6_WGI', 'predicted_score'].mean()}\")\n",
        "print(f\"Average scores per category: {scores_wg23}\\n\")"
      ],
      "metadata": {
        "colab": {
          "base_uri": "https://localhost:8080/"
        },
        "id": "s1B3CwhEk87v",
        "outputId": "6e3a85b4-35c8-4b2c-82ed-49f374144236"
      },
      "execution_count": 387,
      "outputs": [
        {
          "output_type": "stream",
          "name": "stdout",
          "text": [
            "=== All AR6 reports===\n",
            "Average ground truth score: 1.5\n",
            "Average predicted score: 2.2133333333333334\n",
            "Average scores per category: {'low': 2.08, 'medium': 2.21, 'high': 2.24, 'very high': 2.3}\n",
            "\n",
            "=== AR6 WGI report ===\n",
            "Average ground truth score: 1.3157894736842106\n",
            "Average predicted score: 2.2842105263157895\n",
            "Average scores per category: {'low': 2.15, 'medium': 2.257142857142857, 'high': 2.3, 'very high': 2.6}\n",
            "\n",
            "=== AR6 WGII/III reports ===\n",
            "Average ground truth score: 1.5853658536585367\n",
            "Average predicted score: 2.180487804878049\n",
            "Average scores per category: {'low': 2.033333333333333, 'medium': 2.1846153846153844, 'high': 2.2142857142857144, 'very high': 2.225}\n",
            "\n"
          ]
        }
      ]
    },
    {
      "cell_type": "code",
      "source": [
        "import seaborn as sns\n",
        "import matplotlib.pyplot as plt\n",
        "import numpy as np\n",
        "\n",
        "# Define the data\n",
        "\n",
        "# Extract labels and values from the data dictionary\n",
        "labels = list(scores_all.keys())\n",
        "values_all = list(scores_all.values())\n",
        "values_wg1 = list(scores_wg1.values())\n",
        "values_wg23 = list(scores_wg23.values())\n",
        "\n",
        "# Define the custom labels for the x-axis\n",
        "x_labels = ['0 (Low)', '1 (Medium)', '2 (High)', '3 (Very high)']\n",
        "\n",
        "# Create the line plot with labeled curve\n",
        "sns.lineplot(x=labels, y=values_all, label='Average prediction')\n",
        "sns.lineplot(x=labels, y=values_wg1, linestyle='--', color=\"steelblue\", label='WG1 report')\n",
        "sns.lineplot(x=labels, y=values_wg23, linestyle='dotted', color=\"steelblue\", label='WG2 & WG3 report')\n",
        "\n",
        "\n",
        "# Add the ground truth line (y = x)\n",
        "x = np.arange(len(labels))\n",
        "plt.plot(x, x, linestyle='--', color='red', label='Ground truth')\n",
        "\n",
        "# Customize the x-axis tick labels\n",
        "plt.xticks(labels, x_labels)\n",
        "\n",
        "# Set the y-axis limits\n",
        "plt.ylim(0, 3)\n",
        "\n",
        "# Set the title and labels\n",
        "plt.title(\"Average predicted certainty level per class\")\n",
        "plt.xlabel(\"Label\")\n",
        "plt.ylabel(\"Value\")\n",
        "\n",
        "# Show the legend\n",
        "plt.legend()\n",
        "\n",
        "# Show the plot\n",
        "plt.show()"
      ],
      "metadata": {
        "colab": {
          "base_uri": "https://localhost:8080/",
          "height": 472
        },
        "id": "itj9eDZhBvns",
        "outputId": "cf408a4c-dc7f-4952-b833-6bc06cdc6f60"
      },
      "execution_count": 388,
      "outputs": [
        {
          "output_type": "display_data",
          "data": {
            "text/plain": [
              "<Figure size 640x480 with 1 Axes>"
            ],
            "image/png": "[encoded data removed]"
          },
          "metadata": {}
        }
      ]
    }
  ]
}